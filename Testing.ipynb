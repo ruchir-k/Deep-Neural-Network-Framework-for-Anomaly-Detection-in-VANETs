{
 "cells": [
  {
   "cell_type": "code",
   "execution_count": 1,
   "id": "413daef4",
   "metadata": {},
   "outputs": [],
   "source": [
    "import pandas as pd\n",
    "import numpy as np\n",
    "import torch\n",
    "import torch.nn as nn\n",
    "import torch.nn.functional as F\n",
    "import sklearn\n",
    "from torch.utils.data import Dataset,DataLoader\n",
    "from sklearn.model_selection import train_test_split\n",
    "from torch import optim\n",
    "import sklearn\n",
    "from sklearn.metrics import classification_report,confusion_matrix"
   ]
  },
  {
   "cell_type": "code",
   "execution_count": null,
   "id": "16478d64",
   "metadata": {},
   "outputs": [],
   "source": [
    "import pandas as pd\n",
    "import glob\n",
    "import os\n",
    "\n",
    "# Set the directory path\n",
    "dir_path = r'D:\\Study Material\\4-2\\Dataset_final\\VeReMi_0_3600_2022-9-11_12.51.1'\n",
    "\n",
    "# Get a list of all JSON files in the specified directory and its subdirectories\n",
    "json_files = glob.glob(os.path.join(dir_path, '**', '*.json'), recursive=True)\n",
    "\n",
    "# Create an empty dataframe to store the merged data\n",
    "merged_df = pd.DataFrame()\n",
    "\n",
    "# Loop through each file and read it into a pandas dataframe\n",
    "for f in json_files:\n",
    "    # Read the json file into a dataframe\n",
    "    df = pd.read_json(f, orient='records', lines=True)[[\"pos\", \"spd\"]]\n",
    "\n",
    "    # Extract the label from the file prefix\n",
    "    filename = os.path.basename(f)\n",
    "\n",
    "    if filename.startswith('traceJSON'):\n",
    "        label = filename.split('-')[3][1:]\n",
    "    \n",
    "        # Add the label column to the dataframe\n",
    "        if int(label) == 0:\n",
    "            df['label'] = 0\n",
    "        elif int(label) >=1 and int(label) <= 8:\n",
    "            df['label'] = 1\n",
    "        else:\n",
    "            df['label'] = 2\n",
    "        \n",
    "\n",
    "        # Append the dataframe to the merged dataframe\n",
    "        merged_df = pd.concat([merged_df, df], ignore_index=True)\n",
    "\n",
    "# Now merged_df contains all the data from the JSON files, with label column added"
   ]
  },
  {
   "cell_type": "code",
   "execution_count": null,
   "id": "9aa32ef8",
   "metadata": {},
   "outputs": [],
   "source": [
    "merged_df"
   ]
  },
  {
   "cell_type": "code",
   "execution_count": null,
   "id": "c78c76fd",
   "metadata": {},
   "outputs": [],
   "source": [
    "split = pd.DataFrame(merged_df['pos'].to_list(), columns = ['posX', 'posY','posZ'])\n",
    "split = split.drop('posZ',axis=1)\n",
    "merged_df = pd.concat([merged_df, split], axis=1) \n",
    "merged_df = merged_df.drop('pos',axis=1)"
   ]
  },
  {
   "cell_type": "code",
   "execution_count": null,
   "id": "ff512fae",
   "metadata": {},
   "outputs": [],
   "source": [
    "split = pd.DataFrame(merged_df['spd'].to_list(), columns = ['spdX', 'spdY','spdZ'])\n",
    "split = split.drop('spdZ',axis=1)\n",
    "merged_df = pd.concat([merged_df, split], axis=1) \n",
    "merged_df = merged_df.drop('spd',axis=1)"
   ]
  },
  {
   "cell_type": "code",
   "execution_count": null,
   "id": "9c54e633",
   "metadata": {},
   "outputs": [],
   "source": [
    "from sklearn.preprocessing import StandardScaler\n",
    "\n",
    "columns_to_scale = merged_df.columns.drop('label')\n",
    "\n",
    "merged_df[columns_to_scale] = StandardScaler().fit_transform(merged_df[columns_to_scale])"
   ]
  },
  {
   "cell_type": "code",
   "execution_count": null,
   "id": "1ce9c939",
   "metadata": {},
   "outputs": [],
   "source": [
    "merged_df"
   ]
  },
  {
   "cell_type": "code",
   "execution_count": null,
   "id": "9cc1053b",
   "metadata": {},
   "outputs": [],
   "source": [
    "df_new = pd.DataFrame()\n",
    "df_new = pd.concat([df_new, merged_df.loc[merged_df['label']==0].sample(frac=0.3)], ignore_index=True)\n",
    "df_new = pd.concat([df_new, merged_df.loc[merged_df['label']==1]], ignore_index=True)\n",
    "df_new = pd.concat([df_new, merged_df.loc[merged_df['label']==2]], ignore_index=True)\n",
    "df_new.loc[df_new['label']==1]"
   ]
  },
  {
   "cell_type": "code",
   "execution_count": null,
   "id": "6b80baa9",
   "metadata": {},
   "outputs": [],
   "source": [
    "class NN(nn.Module):\n",
    "    def __init__(self,input_size,num_classes):\n",
    "        super(NN,self).__init__()\n",
    "        self.fc1 = nn.Linear(input_size,50)\n",
    "        self.fc2 = nn.Linear(50,30)\n",
    "        self.fc3 = nn.Linear(30,20)\n",
    "        self.fc4 = nn.Linear(20,num_classes)\n",
    "    \n",
    "    def forward(self,x):\n",
    "        x = F.relu(self.fc1(x))\n",
    "        x = F.relu(self.fc2(x))\n",
    "        x = F.relu(self.fc3(x))\n",
    "        x = self.fc4(x)\n",
    "        return x"
   ]
  },
  {
   "cell_type": "code",
   "execution_count": null,
   "id": "e092131b",
   "metadata": {},
   "outputs": [],
   "source": [
    "#set device\n",
    "device = torch.device('cuda' if torch.cuda.is_available() else 'cpu')"
   ]
  },
  {
   "cell_type": "code",
   "execution_count": null,
   "id": "8d002738",
   "metadata": {},
   "outputs": [],
   "source": [
    "#hyperparameters\n",
    "input_size = 4\n",
    "num_classes = 20\n",
    "learning_rate = 0.001\n",
    "batch_size = 64\n",
    "num_epochs = 300"
   ]
  },
  {
   "cell_type": "code",
   "execution_count": null,
   "id": "ed5d4a03",
   "metadata": {},
   "outputs": [],
   "source": [
    "#load data\n",
    "class CustomDataset(Dataset):\n",
    "    def __init__(self, dataframe):\n",
    "        self.data = dataframe[['posX', 'posY', 'spdX', 'spdY']].values\n",
    "        self.targets = dataframe['label'].values\n",
    "\n",
    "    def __len__(self):\n",
    "        return len(self.targets)\n",
    "\n",
    "    def __getitem__(self, index):\n",
    "        data = torch.tensor(self.data[index], dtype=torch.float)\n",
    "        target = torch.tensor(self.targets[index], dtype=torch.long)\n",
    "        return data, target"
   ]
  },
  {
   "cell_type": "code",
   "execution_count": null,
   "id": "608ab52f",
   "metadata": {},
   "outputs": [],
   "source": [
    "from sklearn.preprocessing import LabelEncoder\n",
    "\n",
    "le = LabelEncoder()\n",
    "merged_df['label'] = le.fit_transform(merged_df['label'])"
   ]
  },
  {
   "cell_type": "code",
   "execution_count": null,
   "id": "d3dfd85a",
   "metadata": {},
   "outputs": [],
   "source": [
    "# split dataframe into train and test sets\n",
    "train_df, test_df = train_test_split(merged_df, test_size=0.2, random_state=42)"
   ]
  },
  {
   "cell_type": "code",
   "execution_count": null,
   "id": "45cdc334",
   "metadata": {},
   "outputs": [],
   "source": [
    "# create dataset and dataloader\n",
    "train_dataset = CustomDataset(train_df)\n",
    "train_loader = DataLoader(train_dataset, batch_size=batch_size, shuffle=True)\n",
    "\n",
    "test_dataset = CustomDataset(test_df)\n",
    "test_loader = DataLoader(test_dataset, batch_size=batch_size, shuffle=True)"
   ]
  },
  {
   "cell_type": "code",
   "execution_count": null,
   "id": "dc8e68b0",
   "metadata": {},
   "outputs": [],
   "source": [
    "#initialse network\n",
    "model = NN(input_size=input_size,num_classes=num_classes).to(device)"
   ]
  },
  {
   "cell_type": "code",
   "execution_count": null,
   "id": "e352aec5",
   "metadata": {},
   "outputs": [],
   "source": [
    "#loss and optimizer\n",
    "criterion = nn.CrossEntropyLoss()\n",
    "optimizer = optim.Adam(model.parameters(),lr = learning_rate)"
   ]
  },
  {
   "cell_type": "code",
   "execution_count": null,
   "id": "f9f2326f",
   "metadata": {},
   "outputs": [],
   "source": [
    "#train network\n",
    "for epoch in range(num_epochs):\n",
    "    for batch_idx, (data, target) in enumerate(train_loader):\n",
    "#         if batch_idx % 100 == 0:\n",
    "        print('In batch: ', batch_idx)\n",
    "        data = data.to(device=device)\n",
    "        target = target.to(device=device)\n",
    "        #get to correct shape\n",
    "        data = data.reshape(data.shape[0],-1)\n",
    "        #forward\n",
    "        scores = model(data)\n",
    "        loss = criterion(scores,target)\n",
    "        #backward\n",
    "        optimizer.zero_grad()\n",
    "        loss.backward()\n",
    "        #gradient descent\n",
    "        optimizer.step()"
   ]
  },
  {
   "cell_type": "code",
   "execution_count": null,
   "id": "28c750d2",
   "metadata": {},
   "outputs": [],
   "source": [
    "#check accuracy\n",
    "def check_accuracy(loader,model):\n",
    "    num_correct = 0\n",
    "    num_samples = 0\n",
    "    y_list = []\n",
    "    predictions_list = []\n",
    "    model.eval()\n",
    "    \n",
    "    with torch.no_grad():\n",
    "        for x,y in loader:\n",
    "            x = x.to(device=device)\n",
    "            y = y.to(device=device)\n",
    "            x = x.reshape(x.shape[0],-1)\n",
    "#             print(y.shape)\n",
    "            y_list.extend(y.tolist())\n",
    "            \n",
    "            scores = model(x)\n",
    "            _, predictions = scores.max(1)\n",
    "            num_correct += (predictions == y).sum()\n",
    "            num_samples += predictions.size(0)\n",
    "            predictions_list.extend(predictions.tolist())\n",
    "        \n",
    "        print(f'Got {num_correct} / {num_samples} with accuracy {float(num_correct)/float(num_samples)*100:.2f}')\n",
    "    \n",
    "#     print(len(y_list))\n",
    "#     print(len(predictions_list))\n",
    "    print(classification_report(y_list,predictions_list))\n",
    "    print(\"Confusion Matrix\")\n",
    "    print(confusion_matrix(y_list,predictions_list))\n",
    "    model.train()"
   ]
  },
  {
   "cell_type": "code",
   "execution_count": null,
   "id": "d905bd3a",
   "metadata": {},
   "outputs": [],
   "source": [
    "check_accuracy(train_loader,model)"
   ]
  },
  {
   "cell_type": "code",
   "execution_count": null,
   "id": "36e1ed01",
   "metadata": {},
   "outputs": [],
   "source": [
    "check_accuracy(test_loader,model)"
   ]
  },
  {
   "cell_type": "code",
   "execution_count": null,
   "id": "f7343c2f",
   "metadata": {},
   "outputs": [],
   "source": [
    "# torch.save(model.state_dict(), 'saved_models\\curr_model')"
   ]
  },
  {
   "cell_type": "code",
   "execution_count": null,
   "id": "7bf276c8",
   "metadata": {},
   "outputs": [],
   "source": [
    "model = NN(input_size=input_size,num_classes=num_classes).to(device)\n",
    "# model.load_state_dict(torch.load('saved_models\\curr_model'))\n",
    "model.eval()"
   ]
  },
  {
   "cell_type": "code",
   "execution_count": null,
   "id": "c144e274",
   "metadata": {
    "scrolled": false
   },
   "outputs": [],
   "source": [
    "# # Print optimizer's state_dict\n",
    "# print(\"Optimizer's state_dict:\")\n",
    "# for var_name in optimizer.state_dict():\n",
    "#     print(var_name, \"\\t\", optimizer.state_dict()[var_name])"
   ]
  },
  {
   "cell_type": "code",
   "execution_count": null,
   "id": "67766206",
   "metadata": {},
   "outputs": [],
   "source": [
    "import torch\n",
    "import torch.nn as nn\n",
    "import torch.nn.functional as F\n",
    "\n",
    "class CNN(nn.Module):\n",
    "    def __init__(self, input_size, num_classes):\n",
    "        super(CNN, self).__init__()\n",
    "        self.conv1 = nn.Conv2d(in_channels=1, out_channels=16, kernel_size=3, padding=1)\n",
    "        self.pool1 = nn.MaxPool2d(kernel_size=1)\n",
    "        self.conv2 = nn.Conv2d(in_channels=16, out_channels=32, kernel_size=3, padding=1)\n",
    "        self.pool2 = nn.MaxPool2d(kernel_size=1)\n",
    "        self.fc = nn.Linear(32 * (input_size // 4) * (input_size // 4), num_classes)\n",
    "\n",
    "    def forward(self, x):\n",
    "        x = self.pool1(F.relu(self.conv1(x)))\n",
    "        x = self.pool2(F.relu(self.conv2(x)))\n",
    "        x = x.view(-1, 32 * (input_size // 4) * (input_size // 4))\n",
    "        x = self.fc(x)\n",
    "        return x"
   ]
  },
  {
   "cell_type": "code",
   "execution_count": null,
   "id": "8604b7cc",
   "metadata": {},
   "outputs": [],
   "source": [
    "model = CNN(input_size=input_size,num_classes=num_classes).to(device)"
   ]
  },
  {
   "cell_type": "code",
   "execution_count": null,
   "id": "6b325827",
   "metadata": {},
   "outputs": [],
   "source": [
    "#train network\n",
    "for epoch in range(num_epochs):\n",
    "    for batch_idx, (data, target) in enumerate(train_loader):\n",
    "        if batch_idx % 1000 == 0:\n",
    "            print('In batch: ', batch_idx)\n",
    "        data = data.to(device=device)\n",
    "        target = target.to(device=device)\n",
    "        #get to correct shape\n",
    "        data = data.reshape(data.shape[0],1,-1,1)\n",
    "        #forward\n",
    "        scores = model(data)\n",
    "        loss = criterion(scores,target)\n",
    "        #backward\n",
    "        optimizer.zero_grad()\n",
    "        loss.backward()\n",
    "        #gradient descent\n",
    "        optimizer.step()"
   ]
  },
  {
   "cell_type": "code",
   "execution_count": null,
   "id": "6a7ed4b5",
   "metadata": {},
   "outputs": [],
   "source": []
  }
 ],
 "metadata": {
  "kernelspec": {
   "display_name": "venv",
   "language": "python",
   "name": "venv"
  },
  "language_info": {
   "codemirror_mode": {
    "name": "ipython",
    "version": 3
   },
   "file_extension": ".py",
   "mimetype": "text/x-python",
   "name": "python",
   "nbconvert_exporter": "python",
   "pygments_lexer": "ipython3",
   "version": "3.10.10"
  }
 },
 "nbformat": 4,
 "nbformat_minor": 5
}
