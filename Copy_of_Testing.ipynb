{
 "cells": [
  {
   "cell_type": "code",
   "execution_count": 1,
   "id": "413daef4",
   "metadata": {
    "id": "413daef4"
   },
   "outputs": [],
   "source": [
    "import pandas as pd\n",
    "import numpy as np\n",
    "import torch\n",
    "import torch.nn as nn\n",
    "import torch.nn.functional as F\n",
    "import sklearn\n",
    "from torch.utils.data import Dataset,DataLoader\n",
    "from sklearn.model_selection import train_test_split\n",
    "from torch import optim"
   ]
  },
  {
   "cell_type": "code",
   "execution_count": null,
   "id": "swub-y83udB2",
   "metadata": {
    "id": "swub-y83udB2"
   },
   "outputs": [],
   "source": []
  },
  {
   "cell_type": "code",
   "execution_count": 2,
   "id": "t6W-aLuuh47V",
   "metadata": {
    "colab": {
     "base_uri": "https://localhost:8080/"
    },
    "id": "t6W-aLuuh47V",
    "outputId": "48e5dab6-1d8b-4dd6-f4fd-fb1cc059c0e4"
   },
   "outputs": [],
   "source": [
    "# !unzip /content/VeReMi_0_3600_2022-9-11_12.51.1.zip"
   ]
  },
  {
   "cell_type": "code",
   "execution_count": 3,
   "id": "16478d64",
   "metadata": {
    "id": "16478d64"
   },
   "outputs": [],
   "source": [
    "import pandas as pd\n",
    "import glob\n",
    "import os\n",
    "\n",
    "# Set the directory path\n",
    "dir_path = r'..\\Dataset_final\\VeReMi_0_3600_2022-9-11_12.51.1'\n",
    "\n",
    "# Get a list of all JSON files in the specified directory and its subdirectories\n",
    "json_files = glob.glob(os.path.join(dir_path, '**', '*.json'), recursive=True)\n",
    "\n",
    "# Create an empty dataframe to store the merged data\n",
    "merged_df = pd.DataFrame()\n",
    "\n",
    "# Loop through each file and read it into a pandas dataframe\n",
    "for f in json_files:\n",
    "    # Read the json file into a dataframe\n",
    "    df = pd.read_json(f, orient='records', lines=True)[[\"pos\", \"spd\"]]\n",
    "\n",
    "    # Extract the label from the file prefix\n",
    "    filename = os.path.basename(f)\n",
    "\n",
    "    if filename.startswith('traceJSON'):\n",
    "        label = filename.split('-')[3][1:]\n",
    "#     elif filename.startswith('traceGroundTruthJSON'):\n",
    "#         label = 0\n",
    "#     else:\n",
    "#         raise ValueError(\"File format not supported\")\n",
    "    \n",
    "        # Add the label column to the dataframe\n",
    "        if int(label) == 0:\n",
    "            df['label'] = 0\n",
    "        elif int(label) >=1 and int(label) <= 8:\n",
    "            df['label'] = 1\n",
    "        else:\n",
    "            df['label'] = 2\n",
    "\n",
    "        # Append the dataframe to the merged dataframe\n",
    "        merged_df = pd.concat([merged_df, df], ignore_index=True)\n",
    "\n",
    "# Now merged_df contains all the data from the JSON files, with label column added"
   ]
  },
  {
   "cell_type": "code",
   "execution_count": 4,
   "id": "9aa32ef8",
   "metadata": {
    "colab": {
     "base_uri": "https://localhost:8080/",
     "height": 206
    },
    "id": "9aa32ef8",
    "outputId": "0f500555-c785-4c23-f7e8-3909f6ac716e"
   },
   "outputs": [
    {
     "data": {
      "text/html": [
       "<div>\n",
       "<style scoped>\n",
       "    .dataframe tbody tr th:only-of-type {\n",
       "        vertical-align: middle;\n",
       "    }\n",
       "\n",
       "    .dataframe tbody tr th {\n",
       "        vertical-align: top;\n",
       "    }\n",
       "\n",
       "    .dataframe thead th {\n",
       "        text-align: right;\n",
       "    }\n",
       "</style>\n",
       "<table border=\"1\" class=\"dataframe\">\n",
       "  <thead>\n",
       "    <tr style=\"text-align: right;\">\n",
       "      <th></th>\n",
       "      <th>pos</th>\n",
       "      <th>spd</th>\n",
       "      <th>label</th>\n",
       "    </tr>\n",
       "  </thead>\n",
       "  <tbody>\n",
       "    <tr>\n",
       "      <th>0</th>\n",
       "      <td>[873.6579894237055, 515.0419704516012, 0.0]</td>\n",
       "      <td>[-0.5615534138496401, 0.34935102148086505, 0.0]</td>\n",
       "      <td>0</td>\n",
       "    </tr>\n",
       "    <tr>\n",
       "      <th>1</th>\n",
       "      <td>[872.1848544954322, 515.9474424294032, 0.0]</td>\n",
       "      <td>[-2.125938318465096, 1.322478270765143, 0.0]</td>\n",
       "      <td>0</td>\n",
       "    </tr>\n",
       "    <tr>\n",
       "      <th>2</th>\n",
       "      <td>[869.1128639211374, 517.7971405872365, 0.0]</td>\n",
       "      <td>[-3.5899683398356963, 2.233296724389207, 0.0]</td>\n",
       "      <td>0</td>\n",
       "    </tr>\n",
       "    <tr>\n",
       "      <th>3</th>\n",
       "      <td>[864.6579538884271, 520.5743407739925, 0.0]</td>\n",
       "      <td>[-5.312629533686103, 3.304274438501985, 0.0]</td>\n",
       "      <td>0</td>\n",
       "    </tr>\n",
       "    <tr>\n",
       "      <th>4</th>\n",
       "      <td>[860.0207470696706, 525.7162975093687, 0.0]</td>\n",
       "      <td>[-5.34186098834915, 5.817769455952666, 0.0]</td>\n",
       "      <td>0</td>\n",
       "    </tr>\n",
       "  </tbody>\n",
       "</table>\n",
       "</div>"
      ],
      "text/plain": [
       "                                           pos  \\\n",
       "0  [873.6579894237055, 515.0419704516012, 0.0]   \n",
       "1  [872.1848544954322, 515.9474424294032, 0.0]   \n",
       "2  [869.1128639211374, 517.7971405872365, 0.0]   \n",
       "3  [864.6579538884271, 520.5743407739925, 0.0]   \n",
       "4  [860.0207470696706, 525.7162975093687, 0.0]   \n",
       "\n",
       "                                               spd  label  \n",
       "0  [-0.5615534138496401, 0.34935102148086505, 0.0]      0  \n",
       "1     [-2.125938318465096, 1.322478270765143, 0.0]      0  \n",
       "2    [-3.5899683398356963, 2.233296724389207, 0.0]      0  \n",
       "3     [-5.312629533686103, 3.304274438501985, 0.0]      0  \n",
       "4      [-5.34186098834915, 5.817769455952666, 0.0]      0  "
      ]
     },
     "execution_count": 4,
     "metadata": {},
     "output_type": "execute_result"
    }
   ],
   "source": [
    "merged_df.head()"
   ]
  },
  {
   "cell_type": "code",
   "execution_count": 5,
   "id": "c78c76fd",
   "metadata": {
    "id": "c78c76fd"
   },
   "outputs": [],
   "source": [
    "split = pd.DataFrame(merged_df['pos'].to_list(), columns = ['posX', 'posY','posZ'])\n",
    "split = split.drop('posZ',axis=1)\n",
    "merged_df = pd.concat([merged_df, split], axis=1) \n",
    "merged_df = merged_df.drop('pos',axis=1)"
   ]
  },
  {
   "cell_type": "code",
   "execution_count": 6,
   "id": "ff512fae",
   "metadata": {
    "id": "ff512fae"
   },
   "outputs": [],
   "source": [
    "split = pd.DataFrame(merged_df['spd'].to_list(), columns = ['spdX', 'spdY','spdZ'])\n",
    "split = split.drop('spdZ',axis=1)\n",
    "merged_df = pd.concat([merged_df, split], axis=1) \n",
    "merged_df = merged_df.drop('spd',axis=1)"
   ]
  },
  {
   "cell_type": "code",
   "execution_count": 7,
   "id": "9c54e633",
   "metadata": {
    "id": "9c54e633"
   },
   "outputs": [],
   "source": [
    "from sklearn.preprocessing import StandardScaler\n",
    "\n",
    "columns_to_scale = merged_df.columns.drop('label')\n",
    "\n",
    "merged_df[columns_to_scale] = StandardScaler().fit_transform(merged_df[columns_to_scale])"
   ]
  },
  {
   "cell_type": "code",
   "execution_count": null,
   "id": "1ce9c939",
   "metadata": {
    "colab": {
     "base_uri": "https://localhost:8080/",
     "height": 423
    },
    "id": "1ce9c939",
    "outputId": "c9dd1c36-2329-4575-8999-5e3e73271de6"
   },
   "outputs": [],
   "source": [
    "merged_df"
   ]
  },
  {
   "cell_type": "code",
   "execution_count": null,
   "id": "5b48b8ed",
   "metadata": {},
   "outputs": [],
   "source": [
    "df_new = pd.DataFrame()\n",
    "df_new = pd.concat([df_new, merged_df.loc[merged_df['label']==0].sample(frac=0.3)], ignore_index=True)\n",
    "df_new = pd.concat([df_new, merged_df.loc[merged_df['label']==1]], ignore_index=True)\n",
    "df_new = pd.concat([df_new, merged_df.loc[merged_df['label']==2]], ignore_index=True)\n",
    "df_new.loc[df_new['label']==2]"
   ]
  },
  {
   "cell_type": "code",
   "execution_count": null,
   "id": "e092131b",
   "metadata": {
    "id": "e092131b"
   },
   "outputs": [],
   "source": [
    "#set device\n",
    "device = torch.device('cuda' if torch.cuda.is_available() else 'cpu')"
   ]
  },
  {
   "cell_type": "code",
   "execution_count": null,
   "id": "8d002738",
   "metadata": {
    "id": "8d002738"
   },
   "outputs": [],
   "source": [
    "#hyperparameters\n",
    "input_size = 4\n",
    "num_classes = 3\n",
    "learning_rate = 0.001\n",
    "batch_size = 64\n",
    "num_epochs = 1"
   ]
  },
  {
   "cell_type": "code",
   "execution_count": null,
   "id": "ed5d4a03",
   "metadata": {
    "id": "ed5d4a03"
   },
   "outputs": [],
   "source": [
    "#load data\n",
    "class CustomDataset(Dataset):\n",
    "    def __init__(self, dataframe):\n",
    "        self.data = dataframe[['posX', 'posY', 'spdX', 'spdY']].values\n",
    "        self.targets = dataframe['label'].values\n",
    "        self.data = self.data[:10 * (len(self.data)//10)]\n",
    "        self.targets = self.targets[:10 * (len(self.targets)//10)]\n",
    "        # print(len(self.data))\n",
    "        # print(len(self.targets))\n",
    "\n",
    "    def __len__(self):\n",
    "        return (len(self.data) // 10) - 1\n",
    "\n",
    "    def __getitem__(self, index):\n",
    "        index *= 10\n",
    "        data = torch.tensor(self.data[index:index+20], dtype=torch.float)\n",
    "        target = torch.tensor(self.targets[index:index+20], dtype=torch.long)\n",
    "        return data, target"
   ]
  },
  {
   "cell_type": "code",
   "execution_count": null,
   "id": "608ab52f",
   "metadata": {
    "id": "608ab52f"
   },
   "outputs": [],
   "source": [
    "from sklearn.preprocessing import LabelEncoder\n",
    "\n",
    "le = LabelEncoder()\n",
    "df_new['label'] = le.fit_transform(df_new['label'])"
   ]
  },
  {
   "cell_type": "code",
   "execution_count": null,
   "id": "d3dfd85a",
   "metadata": {
    "id": "d3dfd85a"
   },
   "outputs": [],
   "source": [
    "# split dataframe into train and test sets\n",
    "train_df, test_df = train_test_split(df_new, test_size=0.2, shuffle=False)"
   ]
  },
  {
   "cell_type": "code",
   "execution_count": null,
   "id": "45cdc334",
   "metadata": {
    "id": "45cdc334"
   },
   "outputs": [],
   "source": [
    "# create dataset and dataloader\n",
    "train_dataset = CustomDataset(train_df)\n",
    "train_loader = DataLoader(train_dataset, batch_size=batch_size, drop_last=True, shuffle=False)\n",
    "\n",
    "test_dataset = CustomDataset(test_df)\n",
    "test_loader = DataLoader(test_dataset, batch_size=batch_size, drop_last=True, shuffle=False)"
   ]
  },
  {
   "cell_type": "code",
   "execution_count": null,
   "id": "8CDPwW98BHhx",
   "metadata": {
    "colab": {
     "base_uri": "https://localhost:8080/"
    },
    "id": "8CDPwW98BHhx",
    "outputId": "cac2f384-715b-43ca-e71f-3f2935696737"
   },
   "outputs": [],
   "source": [
    "print(len(test_dataset))\n",
    "print(test_dataset[215])"
   ]
  },
  {
   "cell_type": "code",
   "execution_count": null,
   "id": "f3fdf880",
   "metadata": {
    "id": "f3fdf880"
   },
   "outputs": [],
   "source": [
    "import torch\n",
    "import torch.nn as nn\n",
    "\n",
    "class LSTM(nn.Module):\n",
    "    def __init__(self, input_size, hidden_size, num_layers, num_classes):\n",
    "        super(LSTM, self).__init__()\n",
    "        self.hidden_size = hidden_size\n",
    "        self.num_layers = num_layers\n",
    "        self.lstm = nn.LSTM(input_size, hidden_size, num_layers, batch_first=True)\n",
    "        self.fc = nn.Linear(hidden_size, 1)\n",
    "#         self.softmax = nn.Softmax(dim=1)\n",
    "        self.h_n = None\n",
    "        self.c_n = None\n",
    "\n",
    "\n",
    "    def forward(self, x):\n",
    "        if self.h_n is None:\n",
    "            out, (self.h_n, self.c_n) = self.lstm(x)    \n",
    "        else:\n",
    "            out, (self.h_n, self.c_n) = self.lstm(x, (self.h_n, self.c_n))\n",
    "        self.h_n = self.h_n.detach()\n",
    "        self.c_n = self.c_n.detach()\n",
    "        # out = self.softmax(self.fc(out))\n",
    "        out = self.fc(out)\n",
    "\n",
    "        return out"
   ]
  },
  {
   "cell_type": "code",
   "execution_count": null,
   "id": "68093895",
   "metadata": {
    "id": "68093895"
   },
   "outputs": [],
   "source": [
    "inp = torch.randn(64,20,4)"
   ]
  },
  {
   "cell_type": "code",
   "execution_count": null,
   "id": "2a946bd2",
   "metadata": {
    "id": "2a946bd2"
   },
   "outputs": [],
   "source": [
    "model = LSTM(input_size=4,hidden_size=256,num_layers=3,num_classes=3)"
   ]
  },
  {
   "cell_type": "code",
   "execution_count": null,
   "id": "eeecdd9d",
   "metadata": {
    "id": "eeecdd9d"
   },
   "outputs": [],
   "source": [
    "output = model(inp)"
   ]
  },
  {
   "cell_type": "code",
   "execution_count": null,
   "id": "OBkV5G7Kg92K",
   "metadata": {
    "colab": {
     "base_uri": "https://localhost:8080/"
    },
    "id": "OBkV5G7Kg92K",
    "outputId": "807edcb1-4845-4e5e-8df4-a3187e9f134b"
   },
   "outputs": [],
   "source": [
    "print(output.type())\n",
    "print(output[1])\n",
    "loss_fn = nn.MSELoss()"
   ]
  },
  {
   "cell_type": "code",
   "execution_count": null,
   "id": "1eKzPl98iXoh",
   "metadata": {
    "colab": {
     "base_uri": "https://localhost:8080/"
    },
    "id": "1eKzPl98iXoh",
    "outputId": "297f3cc8-dfb8-4c59-ec5e-5db47e6cd3a7"
   },
   "outputs": [],
   "source": [
    "# testing\n",
    "batch_x, batch_y = next(iter(train_loader))\n",
    "# print(batch_x.shape)\n",
    "batch_y = batch_y.unsqueeze(2)\n",
    "# print(batch_y.shape)\n",
    "print(torch.max(batch_y))\n",
    "\n",
    "\n",
    "# y_onehot = torch.LongTensor(batch_size, 20, 3)\n",
    "# print(y_onehot.shape)\n",
    "# # In your for loop\n",
    "# y_onehot.zero_()\n",
    "# # print(y_onehot)\n",
    "# # print(batch_y.shape)\n",
    "# y_onehot.scatter_(1, batch_y, 1)\n",
    "# # print(y_onehot)\n",
    "y_onehot = F.one_hot(batch_y.to(torch.int64), num_classes=3)\n",
    "y_onehot = torch.squeeze(y_onehot)\n",
    "print(y_onehot.shape)\n",
    "# print(y_onehot[:1], batch_y[:1])\n",
    "batch_x = batch_x.to(device)\n",
    "batch_y = batch_y.to(device)\n",
    "# print(batch_y.shape)\n",
    "pred = model(batch_x)\n",
    "print(pred.shape)\n",
    "# print(y_onehot.shape)\n",
    "loss = loss_fn(pred, batch_y)\n",
    "print(loss)\n",
    "print(loss.shape)"
   ]
  },
  {
   "cell_type": "code",
   "execution_count": null,
   "id": "6a7ed4b5",
   "metadata": {
    "id": "6a7ed4b5"
   },
   "outputs": [],
   "source": [
    "# Define the loss function (criterion) and optimizer\n",
    "criterion = torch.nn.MSELoss()\n",
    "optimizer = torch.optim.Adam(model.parameters(), lr=3e-4)"
   ]
  },
  {
   "cell_type": "code",
   "execution_count": null,
   "id": "PIRitIqVKuSP",
   "metadata": {
    "colab": {
     "base_uri": "https://localhost:8080/"
    },
    "id": "PIRitIqVKuSP",
    "outputId": "c6b720c7-a04c-4182-92e1-6f4e5b54e59d"
   },
   "outputs": [],
   "source": [
    "print(len(train_dataset))"
   ]
  },
  {
   "cell_type": "code",
   "execution_count": null,
   "id": "b7ee5358",
   "metadata": {},
   "outputs": [],
   "source": []
  },
  {
   "cell_type": "code",
   "execution_count": null,
   "id": "Zr9Y_d4do8fo",
   "metadata": {
    "colab": {
     "base_uri": "https://localhost:8080/"
    },
    "id": "Zr9Y_d4do8fo",
    "outputId": "cbafbcc6-501f-4d04-e2f9-b04153564a34"
   },
   "outputs": [],
   "source": [
    "# Training loop\n",
    "num_epochs = 100\n",
    "break_ = False\n",
    "\n",
    "for epoch in range(num_epochs):\n",
    "        if break_:\n",
    "            break\n",
    "        for i, (batch_x, batch_y) in enumerate(train_loader):\n",
    "            if batch_x is None:\n",
    "                print(i, batch_x, batch_y)\n",
    "                break\n",
    "            try:\n",
    "\n",
    "              model.zero_grad()\n",
    "\n",
    "              # Move inputs and labels to the device (e.g. GPU) if available\n",
    "              batch_x = batch_x.to(device).float()\n",
    "              batch_y = batch_y.to(device).float()\n",
    "              batch_y = batch_y.unsqueeze(2)\n",
    "              y_onehot = F.one_hot(batch_y.to(torch.int64), num_classes=3)\n",
    "              y_onehot = torch.squeeze(y_onehot).float()\n",
    "              \n",
    "              # Forward pass\n",
    "              outputs = model(batch_x)\n",
    "#               print(outputs.shape)\n",
    "#               print(batch_y.shape)\n",
    "              loss = criterion(outputs, y_onehot)\n",
    "              # total_loss = loss.item() * batch_size\n",
    "\n",
    "              # Backward and optimize\n",
    "              # optimizer.zero_grad()\n",
    "              loss.backward()\n",
    "              optimizer.step()\n",
    "              \n",
    "\n",
    "              # Print the loss every 100 steps\n",
    "              # if (i + 1) % 100 == 0:\n",
    "              print(f'Epoch [{epoch + 1}/{num_epochs}], Step [{i + 1}/{len(train_loader)}], Loss: {loss.item():.4f}')\n",
    "            except Exception as e:\n",
    "                print(e)\n",
    "                print(batch_x.shape, batch_y.shape, outputs.shape)\n",
    "                break_ = True\n",
    "                break\n"
   ]
  },
  {
   "cell_type": "markdown",
   "id": "KZHs8jdrLiGk",
   "metadata": {
    "id": "KZHs8jdrLiGk"
   },
   "source": [
    "### Testing"
   ]
  },
  {
   "cell_type": "code",
   "execution_count": null,
   "id": "4DJCjbnMo-ke",
   "metadata": {
    "id": "4DJCjbnMo-ke"
   },
   "outputs": [],
   "source": [
    "# Training loop\n",
    "num_epochs = 10\n",
    "break_ = False\n",
    "total_loss = 0.\n",
    "\n",
    "model.eval()\n",
    "\n",
    "with torch.no_grad():\n",
    "    for epoch in range(num_epochs):\n",
    "        for i, (batch_x, batch_y) in enumerate(test_loader):\n",
    "            model.zero_grad()\n",
    "\n",
    "            # Move inputs and labels to the device (e.g. GPU) if available\n",
    "            batch_x = batch_x.to(device).float()\n",
    "            batch_y = batch_y.to(device).float()\n",
    "            batch_y = batch_y.unsqueeze(2)\n",
    "            y_onehot = F.one_hot(batch_y.to(torch.int64), num_classes=3)\n",
    "            y_onehot = torch.squeeze(y_onehot).float()\n",
    "            print(y_onehot)\n",
    "            print(batch_y)\n",
    "            # Forward pass\n",
    "            outputs = model(batch_x)\n",
    "            print(outputs.shape)\n",
    "            print(outputs)\n",
    "#             for i in len(outputs):\n",
    "#               outputs[i] = torch.argmax(outputs[i],dim=0)\n",
    "#             print(outputs)\n",
    "            loss = criterion(outputs, y_onehot)\n",
    "            total_loss = loss.item() * batch_size\n",
    "            # Print the loss every 100 steps\n",
    "            # if (i + 1) % 100 == 0:\n",
    "            # print(f'Epoch [{epoch + 1}/{num_epochs}], Step [{i + 1}/{len(test_loader)}], Loss: {loss.item():.4f}')\n",
    "            # except Exception as e:\n",
    "            #     print(e)\n",
    "            #     print(batch_x.shape, batch_y.shape, outputs.shape)\n",
    "            #     break_ = True\n",
    "            #     break\n",
    "\n",
    "avg_loss = total_loss / len(test_dataset)"
   ]
  },
  {
   "cell_type": "code",
   "execution_count": null,
   "id": "Bd1-xpPOPYIP",
   "metadata": {
    "colab": {
     "base_uri": "https://localhost:8080/"
    },
    "id": "Bd1-xpPOPYIP",
    "outputId": "0035c1f8-bbc7-4136-9ef1-7dcd6f442966"
   },
   "outputs": [],
   "source": [
    "print(avg_loss)"
   ]
  },
  {
   "cell_type": "code",
   "execution_count": null,
   "id": "13b8564b",
   "metadata": {},
   "outputs": [],
   "source": [
    "# example = torch.zeros(64,20,3)\n",
    "# example[:,:,0] = 1\n",
    "# example"
   ]
  },
  {
   "cell_type": "code",
   "execution_count": null,
   "id": "b2d45d0a",
   "metadata": {},
   "outputs": [],
   "source": []
  },
  {
   "cell_type": "code",
   "execution_count": null,
   "id": "557ce2f5",
   "metadata": {},
   "outputs": [],
   "source": []
  },
  {
   "cell_type": "code",
   "execution_count": null,
   "id": "DnFuRPGsQxaZ",
   "metadata": {
    "id": "DnFuRPGsQxaZ"
   },
   "outputs": [],
   "source": [
    "# Import the required library\n",
    "import torch\n",
    "\n",
    "# define an input tensor\n",
    "input = torch.randn(4,4)\n",
    "\n",
    "# print above defined tensor\n",
    "print(\"Input Tensor:\", input)\n",
    "\n",
    "# Compute indices of the maximum value\n",
    "indices = torch.argmax(input)\n",
    "\n",
    "# print the indices\n",
    "print(\"Indices:\", indices)\n",
    "\n",
    "# Compute indices of the maximum value in dim 0\n",
    "indices = torch.argmax(input, dim=0)\n",
    "\n",
    "# print the indices\n",
    "print(\"Indices in dim 0:\", indices)\n",
    "\n",
    "# Compute indices of the maximum value in dim 1\n",
    "indices = torch.argmax(input, dim=1)\n",
    "\n",
    "# print the indices\n",
    "print(\"Indices in dim 1:\", indices)"
   ]
  },
  {
   "cell_type": "code",
   "execution_count": null,
   "id": "acd8409f",
   "metadata": {},
   "outputs": [],
   "source": []
  },
  {
   "cell_type": "code",
   "execution_count": null,
   "id": "6eaf0a80",
   "metadata": {},
   "outputs": [],
   "source": []
  },
  {
   "cell_type": "code",
   "execution_count": null,
   "id": "7c36d65f",
   "metadata": {},
   "outputs": [],
   "source": []
  },
  {
   "cell_type": "code",
   "execution_count": null,
   "id": "61f55594",
   "metadata": {},
   "outputs": [],
   "source": []
  },
  {
   "cell_type": "code",
   "execution_count": null,
   "id": "4d8ba8c0",
   "metadata": {},
   "outputs": [],
   "source": []
  },
  {
   "cell_type": "code",
   "execution_count": null,
   "id": "e86b64a3",
   "metadata": {},
   "outputs": [],
   "source": []
  },
  {
   "cell_type": "code",
   "execution_count": null,
   "id": "bc00c24d",
   "metadata": {},
   "outputs": [],
   "source": []
  },
  {
   "cell_type": "code",
   "execution_count": null,
   "id": "28ac4aca",
   "metadata": {},
   "outputs": [],
   "source": []
  },
  {
   "cell_type": "code",
   "execution_count": null,
   "id": "21b16150",
   "metadata": {},
   "outputs": [],
   "source": []
  },
  {
   "cell_type": "code",
   "execution_count": null,
   "id": "8a7873be",
   "metadata": {},
   "outputs": [],
   "source": []
  },
  {
   "cell_type": "code",
   "execution_count": null,
   "id": "37f6096c",
   "metadata": {},
   "outputs": [],
   "source": []
  },
  {
   "cell_type": "code",
   "execution_count": null,
   "id": "443b8a4c",
   "metadata": {},
   "outputs": [],
   "source": []
  },
  {
   "cell_type": "code",
   "execution_count": null,
   "id": "dce3c72d",
   "metadata": {},
   "outputs": [],
   "source": []
  },
  {
   "cell_type": "code",
   "execution_count": null,
   "id": "ef25843c",
   "metadata": {},
   "outputs": [],
   "source": []
  },
  {
   "cell_type": "code",
   "execution_count": null,
   "id": "532a6f4d",
   "metadata": {},
   "outputs": [],
   "source": []
  },
  {
   "cell_type": "code",
   "execution_count": null,
   "id": "13916e08",
   "metadata": {},
   "outputs": [],
   "source": []
  },
  {
   "cell_type": "code",
   "execution_count": null,
   "id": "8e8e585a",
   "metadata": {},
   "outputs": [],
   "source": []
  },
  {
   "cell_type": "code",
   "execution_count": null,
   "id": "6af61306",
   "metadata": {},
   "outputs": [],
   "source": []
  },
  {
   "cell_type": "code",
   "execution_count": null,
   "id": "3a725f06",
   "metadata": {},
   "outputs": [],
   "source": []
  },
  {
   "cell_type": "code",
   "execution_count": null,
   "id": "05b72aa6",
   "metadata": {},
   "outputs": [],
   "source": []
  },
  {
   "cell_type": "code",
   "execution_count": null,
   "id": "e541c4b4",
   "metadata": {},
   "outputs": [],
   "source": []
  },
  {
   "cell_type": "code",
   "execution_count": null,
   "id": "b3a18529",
   "metadata": {},
   "outputs": [],
   "source": []
  },
  {
   "cell_type": "code",
   "execution_count": null,
   "id": "3c863aaf",
   "metadata": {},
   "outputs": [],
   "source": []
  },
  {
   "cell_type": "code",
   "execution_count": null,
   "id": "ddd72c60",
   "metadata": {},
   "outputs": [],
   "source": []
  },
  {
   "cell_type": "code",
   "execution_count": null,
   "id": "28a49cde",
   "metadata": {},
   "outputs": [],
   "source": []
  },
  {
   "cell_type": "code",
   "execution_count": null,
   "id": "8cf40b3a",
   "metadata": {},
   "outputs": [],
   "source": []
  }
 ],
 "metadata": {
  "colab": {
   "provenance": []
  },
  "gpuClass": "standard",
  "kernelspec": {
   "display_name": "venv",
   "language": "python",
   "name": "venv"
  },
  "language_info": {
   "codemirror_mode": {
    "name": "ipython",
    "version": 3
   },
   "file_extension": ".py",
   "mimetype": "text/x-python",
   "name": "python",
   "nbconvert_exporter": "python",
   "pygments_lexer": "ipython3",
   "version": "3.10.10"
  }
 },
 "nbformat": 4,
 "nbformat_minor": 5
}
