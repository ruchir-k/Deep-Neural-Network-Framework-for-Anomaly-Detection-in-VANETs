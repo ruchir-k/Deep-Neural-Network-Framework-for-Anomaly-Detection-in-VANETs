{
 "cells": [
  {
   "cell_type": "code",
   "execution_count": 104,
   "id": "8c179e70",
   "metadata": {},
   "outputs": [],
   "source": [
    "import torch\n",
    "import torch.nn as nn\n",
    "from torch.utils.data import DataLoader"
   ]
  },
  {
   "cell_type": "code",
   "execution_count": 105,
   "id": "1a83303f",
   "metadata": {},
   "outputs": [],
   "source": [
    "conv = nn.Conv1d(in_channels=20, out_channels=20, kernel_size=3)"
   ]
  },
  {
   "cell_type": "code",
   "execution_count": 122,
   "id": "7a1ff5ac",
   "metadata": {},
   "outputs": [],
   "source": [
    "x = torch.randn(20,4)"
   ]
  },
  {
   "cell_type": "code",
   "execution_count": 124,
   "id": "f1d6c9db",
   "metadata": {},
   "outputs": [
    {
     "name": "stdout",
     "output_type": "stream",
     "text": [
      "tensor([[ 1.4633, -0.0547,  1.3137, -1.3222],\n",
      "        [-1.4318, -0.2267,  0.4703, -0.0855],\n",
      "        [ 1.5460,  2.4278, -1.0971,  0.7958],\n",
      "        [-1.2056,  0.1761,  0.5204,  2.1128],\n",
      "        [-0.0873,  1.6430,  0.0553, -0.6600],\n",
      "        [-0.4570, -0.2419,  0.9161, -0.8416],\n",
      "        [-0.3707,  0.3603,  1.7400, -2.0694],\n",
      "        [-0.9121, -1.6947,  1.9736, -1.0083],\n",
      "        [-1.6632,  0.4293, -1.1267, -0.8588],\n",
      "        [-1.3795,  2.2254, -0.7376,  1.0695],\n",
      "        [ 0.3118,  0.3696, -0.6152,  0.0399],\n",
      "        [ 0.4593,  0.0976,  0.3786,  1.4477],\n",
      "        [ 1.9312, -0.7486, -1.2858, -0.3124],\n",
      "        [-1.1709,  0.9252,  0.2368,  1.7426],\n",
      "        [-0.4306, -0.8855,  1.0167,  1.2084],\n",
      "        [ 0.3626,  0.1810,  1.4095,  1.4063],\n",
      "        [ 0.4529,  0.3516,  0.6279, -0.9043],\n",
      "        [-0.7568, -0.5044,  1.5473, -0.9308],\n",
      "        [-0.1760, -1.3123,  0.7106, -0.8567],\n",
      "        [-1.2217, -0.6242, -1.2205,  2.0975]])\n"
     ]
    }
   ],
   "source": [
    "print(x)"
   ]
  },
  {
   "cell_type": "code",
   "execution_count": 126,
   "id": "71705942",
   "metadata": {},
   "outputs": [],
   "source": [
    "x = conv(x)"
   ]
  },
  {
   "cell_type": "code",
   "execution_count": 127,
   "id": "f5ed2f47",
   "metadata": {},
   "outputs": [
    {
     "name": "stdout",
     "output_type": "stream",
     "text": [
      "tensor([[ 0.3437, -0.1859],\n",
      "        [ 0.0309,  0.7900],\n",
      "        [ 0.0541,  0.1204],\n",
      "        [-1.0698, -0.8762],\n",
      "        [-0.7035,  0.1976],\n",
      "        [-0.3844,  1.1223],\n",
      "        [-0.5285,  1.6792],\n",
      "        [-0.4279, -0.2284],\n",
      "        [-0.7689,  0.2311],\n",
      "        [ 1.0001, -0.0284],\n",
      "        [-0.2504, -0.2195],\n",
      "        [-0.1710,  0.0692],\n",
      "        [ 0.2937, -1.0192],\n",
      "        [-0.7900,  1.1797],\n",
      "        [ 0.6989, -0.1807],\n",
      "        [-0.5894,  0.2693],\n",
      "        [ 0.0839, -0.4948],\n",
      "        [ 0.4644, -0.7051],\n",
      "        [ 0.0099,  0.1522],\n",
      "        [-0.2532,  0.5403]], grad_fn=<SqueezeBackward1>)\n"
     ]
    }
   ],
   "source": [
    "print(x)"
   ]
  },
  {
   "cell_type": "code",
   "execution_count": 128,
   "id": "f8745961",
   "metadata": {},
   "outputs": [
    {
     "data": {
      "text/plain": [
       "torch.Size([20, 2])"
      ]
     },
     "execution_count": 128,
     "metadata": {},
     "output_type": "execute_result"
    }
   ],
   "source": [
    "x.shape"
   ]
  },
  {
   "cell_type": "code",
   "execution_count": 111,
   "id": "c8584461",
   "metadata": {},
   "outputs": [],
   "source": [
    "lstm = nn.LSTM(input_size=2,hidden_size=2,num_layers=256)"
   ]
  },
  {
   "cell_type": "code",
   "execution_count": 129,
   "id": "5cef4226",
   "metadata": {},
   "outputs": [
    {
     "name": "stdout",
     "output_type": "stream",
     "text": [
      "tensor([[ 0.3437, -0.1859],\n",
      "        [ 0.0309,  0.7900],\n",
      "        [ 0.0541,  0.1204],\n",
      "        [-1.0698, -0.8762],\n",
      "        [-0.7035,  0.1976],\n",
      "        [-0.3844,  1.1223],\n",
      "        [-0.5285,  1.6792],\n",
      "        [-0.4279, -0.2284],\n",
      "        [-0.7689,  0.2311],\n",
      "        [ 1.0001, -0.0284],\n",
      "        [-0.2504, -0.2195],\n",
      "        [-0.1710,  0.0692],\n",
      "        [ 0.2937, -1.0192],\n",
      "        [-0.7900,  1.1797],\n",
      "        [ 0.6989, -0.1807],\n",
      "        [-0.5894,  0.2693],\n",
      "        [ 0.0839, -0.4948],\n",
      "        [ 0.4644, -0.7051],\n",
      "        [ 0.0099,  0.1522],\n",
      "        [-0.2532,  0.5403]], grad_fn=<SqueezeBackward1>)\n"
     ]
    }
   ],
   "source": [
    "print(x)"
   ]
  },
  {
   "cell_type": "code",
   "execution_count": 130,
   "id": "241b92e8",
   "metadata": {},
   "outputs": [],
   "source": [
    "h0 = torch.randn(256,2)\n",
    "c0 = torch.randn(256,2)"
   ]
  },
  {
   "cell_type": "code",
   "execution_count": 132,
   "id": "46b63bc7",
   "metadata": {},
   "outputs": [],
   "source": [
    "o1, _= lstm(x, (h0,c0))"
   ]
  },
  {
   "cell_type": "code",
   "execution_count": 133,
   "id": "8309b762",
   "metadata": {},
   "outputs": [
    {
     "name": "stdout",
     "output_type": "stream",
     "text": [
      "tensor([[ 0.0558, -0.0436],\n",
      "        [ 0.0992, -0.1022],\n",
      "        [ 0.1110, -0.1197],\n",
      "        [ 0.1161, -0.1268],\n",
      "        [ 0.1188, -0.1298],\n",
      "        [ 0.1203, -0.1311],\n",
      "        [ 0.1212, -0.1318],\n",
      "        [ 0.1218, -0.1321],\n",
      "        [ 0.1222, -0.1323],\n",
      "        [ 0.1224, -0.1324],\n",
      "        [ 0.1226, -0.1325],\n",
      "        [ 0.1227, -0.1325],\n",
      "        [ 0.1227, -0.1325],\n",
      "        [ 0.1228, -0.1325],\n",
      "        [ 0.1228, -0.1325],\n",
      "        [ 0.1228, -0.1325],\n",
      "        [ 0.1228, -0.1325],\n",
      "        [ 0.1229, -0.1325],\n",
      "        [ 0.1229, -0.1325],\n",
      "        [ 0.1229, -0.1325]], grad_fn=<SqueezeBackward1>)\n"
     ]
    }
   ],
   "source": [
    "print(o1)"
   ]
  },
  {
   "cell_type": "code",
   "execution_count": 134,
   "id": "66056365",
   "metadata": {},
   "outputs": [
    {
     "data": {
      "text/plain": [
       "torch.Size([20, 2])"
      ]
     },
     "execution_count": 134,
     "metadata": {},
     "output_type": "execute_result"
    }
   ],
   "source": [
    "o1.shape"
   ]
  },
  {
   "cell_type": "code",
   "execution_count": 118,
   "id": "20073a83",
   "metadata": {},
   "outputs": [],
   "source": [
    "lstm2 = nn.LSTM(input_size=2,hidden_size=2,num_layers=256)"
   ]
  },
  {
   "cell_type": "code",
   "execution_count": 119,
   "id": "c5cc5f9d",
   "metadata": {},
   "outputs": [],
   "source": [
    "h0_2 = torch.randn(256,2)\n",
    "c0_2 = torch.randn(256,2)"
   ]
  },
  {
   "cell_type": "code",
   "execution_count": 135,
   "id": "20f1f039",
   "metadata": {},
   "outputs": [],
   "source": [
    "o2, _= lstm(input, (h0_2,c0_2))"
   ]
  },
  {
   "cell_type": "code",
   "execution_count": 136,
   "id": "588fae4e",
   "metadata": {},
   "outputs": [
    {
     "data": {
      "text/plain": [
       "tensor([[ 0.0209, -0.3191],\n",
       "        [ 0.0732, -0.2548],\n",
       "        [ 0.0938, -0.1598],\n",
       "        [ 0.1048, -0.1423],\n",
       "        [ 0.1116, -0.1380],\n",
       "        [ 0.1158, -0.1361],\n",
       "        [ 0.1184, -0.1350],\n",
       "        [ 0.1200, -0.1342],\n",
       "        [ 0.1210, -0.1337],\n",
       "        [ 0.1216, -0.1333],\n",
       "        [ 0.1220, -0.1330],\n",
       "        [ 0.1223, -0.1329],\n",
       "        [ 0.1225, -0.1328],\n",
       "        [ 0.1226, -0.1327],\n",
       "        [ 0.1227, -0.1326],\n",
       "        [ 0.1228, -0.1326],\n",
       "        [ 0.1228, -0.1326],\n",
       "        [ 0.1228, -0.1326],\n",
       "        [ 0.1228, -0.1325],\n",
       "        [ 0.1228, -0.1325]], grad_fn=<SqueezeBackward1>)"
      ]
     },
     "execution_count": 136,
     "metadata": {},
     "output_type": "execute_result"
    }
   ],
   "source": [
    "o2"
   ]
  },
  {
   "cell_type": "code",
   "execution_count": 138,
   "id": "2c2e6e2a",
   "metadata": {},
   "outputs": [],
   "source": [
    "lstm3 = nn.LSTM(input_size=2,hidden_size=2,num_layers=256)\n",
    "lstm4 = nn.LSTM(input_size=2,hidden_size=2,num_layers=256)\n"
   ]
  },
  {
   "cell_type": "code",
   "execution_count": 139,
   "id": "72353332",
   "metadata": {},
   "outputs": [],
   "source": [
    "h0_3 = torch.randn(256,2)\n",
    "c0_3 = torch.randn(256,2)\n",
    "h0_4 = torch.randn(256,2)\n",
    "c0_4 = torch.randn(256,2)"
   ]
  },
  {
   "cell_type": "code",
   "execution_count": 141,
   "id": "0aef3e18",
   "metadata": {},
   "outputs": [],
   "source": [
    "o3, _= lstm(input, (h0_3,c0_3))\n",
    "o4, _= lstm(input, (h0_4,c0_4))"
   ]
  },
  {
   "cell_type": "code",
   "execution_count": 142,
   "id": "33e9f87a",
   "metadata": {},
   "outputs": [],
   "source": [
    "lin = nn.Linear(2,1)"
   ]
  },
  {
   "cell_type": "code",
   "execution_count": 143,
   "id": "5471e0e0",
   "metadata": {},
   "outputs": [],
   "source": [
    "out1 = lin(o1)\n",
    "out2 = lin(o2)\n",
    "out3 = lin(o3)\n",
    "out4 = lin(o4)"
   ]
  },
  {
   "cell_type": "code",
   "execution_count": 144,
   "id": "c4c27ff4",
   "metadata": {},
   "outputs": [
    {
     "data": {
      "text/plain": [
       "tensor([[0.4621],\n",
       "        [0.4577],\n",
       "        [0.4567],\n",
       "        [0.4562],\n",
       "        [0.4559],\n",
       "        [0.4556],\n",
       "        [0.4555],\n",
       "        [0.4554],\n",
       "        [0.4553],\n",
       "        [0.4552],\n",
       "        [0.4552],\n",
       "        [0.4552],\n",
       "        [0.4552],\n",
       "        [0.4551],\n",
       "        [0.4551],\n",
       "        [0.4551],\n",
       "        [0.4551],\n",
       "        [0.4551],\n",
       "        [0.4551],\n",
       "        [0.4551]], grad_fn=<AddmmBackward0>)"
      ]
     },
     "execution_count": 144,
     "metadata": {},
     "output_type": "execute_result"
    }
   ],
   "source": [
    "out1"
   ]
  },
  {
   "cell_type": "code",
   "execution_count": 145,
   "id": "32874d33",
   "metadata": {},
   "outputs": [],
   "source": [
    "out_comb = torch.stack((out1,out2,out3,out4),dim=1)"
   ]
  },
  {
   "cell_type": "code",
   "execution_count": 146,
   "id": "095ce946",
   "metadata": {},
   "outputs": [
    {
     "data": {
      "text/plain": [
       "torch.Size([20, 4, 1])"
      ]
     },
     "execution_count": 146,
     "metadata": {},
     "output_type": "execute_result"
    }
   ],
   "source": [
    "out_comb.shape"
   ]
  },
  {
   "cell_type": "code",
   "execution_count": 147,
   "id": "a1645107",
   "metadata": {},
   "outputs": [],
   "source": [
    "out_comb = out_comb.squeeze()"
   ]
  },
  {
   "cell_type": "code",
   "execution_count": 148,
   "id": "8f43f740",
   "metadata": {},
   "outputs": [
    {
     "data": {
      "text/plain": [
       "torch.Size([20, 4])"
      ]
     },
     "execution_count": 148,
     "metadata": {},
     "output_type": "execute_result"
    }
   ],
   "source": [
    "out_comb.shape"
   ]
  },
  {
   "cell_type": "code",
   "execution_count": 149,
   "id": "c4375c91",
   "metadata": {},
   "outputs": [],
   "source": [
    "lin2 = nn.Linear(4,2)"
   ]
  },
  {
   "cell_type": "code",
   "execution_count": 150,
   "id": "8bf05e42",
   "metadata": {},
   "outputs": [],
   "source": [
    "out_final = lin2(out_comb)"
   ]
  },
  {
   "cell_type": "code",
   "execution_count": 151,
   "id": "8999362a",
   "metadata": {},
   "outputs": [
    {
     "data": {
      "text/plain": [
       "tensor([[-0.3029, -0.1952],\n",
       "        [-0.3044, -0.1949],\n",
       "        [-0.2964, -0.1885],\n",
       "        [-0.2925, -0.1854],\n",
       "        [-0.2896, -0.1830],\n",
       "        [-0.2874, -0.1812],\n",
       "        [-0.2860, -0.1799],\n",
       "        [-0.2850, -0.1791],\n",
       "        [-0.2844, -0.1786],\n",
       "        [-0.2840, -0.1783],\n",
       "        [-0.2838, -0.1780],\n",
       "        [-0.2836, -0.1779],\n",
       "        [-0.2835, -0.1778],\n",
       "        [-0.2834, -0.1777],\n",
       "        [-0.2834, -0.1777],\n",
       "        [-0.2833, -0.1777],\n",
       "        [-0.2833, -0.1777],\n",
       "        [-0.2833, -0.1777],\n",
       "        [-0.2833, -0.1776],\n",
       "        [-0.2833, -0.1776]], grad_fn=<AddmmBackward0>)"
      ]
     },
     "execution_count": 151,
     "metadata": {},
     "output_type": "execute_result"
    }
   ],
   "source": [
    "out_final"
   ]
  },
  {
   "cell_type": "code",
   "execution_count": null,
   "id": "3f12ce64",
   "metadata": {},
   "outputs": [],
   "source": []
  }
 ],
 "metadata": {
  "kernelspec": {
   "display_name": "venv",
   "language": "python",
   "name": "venv"
  },
  "language_info": {
   "codemirror_mode": {
    "name": "ipython",
    "version": 3
   },
   "file_extension": ".py",
   "mimetype": "text/x-python",
   "name": "python",
   "nbconvert_exporter": "python",
   "pygments_lexer": "ipython3",
   "version": "3.10.10"
  }
 },
 "nbformat": 4,
 "nbformat_minor": 5
}
