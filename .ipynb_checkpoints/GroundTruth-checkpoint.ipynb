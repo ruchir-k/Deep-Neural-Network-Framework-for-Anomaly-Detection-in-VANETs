{
 "cells": [
  {
   "cell_type": "code",
   "execution_count": 43,
   "id": "0306ec7c",
   "metadata": {},
   "outputs": [],
   "source": [
    "import pandas as pd\n",
    "import numpy as np\n",
    "import torch\n",
    "import torch.nn as nn\n",
    "import sklearn\n",
    "from torch.utils.data import DataLoader\n",
    "from sklearn.model_selection import train_test_split\n",
    "from torch import optim"
   ]
  },
  {
   "cell_type": "code",
   "execution_count": 44,
   "id": "41044656",
   "metadata": {},
   "outputs": [],
   "source": [
    "df = pd.read_json('traceGroundTruthJSON-0.json',lines=True)"
   ]
  },
  {
   "cell_type": "code",
   "execution_count": 45,
   "id": "4f94f0d2",
   "metadata": {},
   "outputs": [],
   "source": [
    "df.head()"
   ]
  },
  {
   "cell_type": "code",
   "execution_count": 46,
   "id": "0e91251a",
   "metadata": {},
   "outputs": [],
   "source": [
    "df1 = df[['pos','spd']]"
   ]
  },
  {
   "cell_type": "code",
   "execution_count": 5,
   "id": "e0fc1dc8",
   "metadata": {},
   "outputs": [],
   "source": [
    "df1.head()"
   ]
  },
  {
   "cell_type": "code",
   "execution_count": 6,
   "id": "4b49c5b9",
   "metadata": {},
   "outputs": [],
   "source": [
    "split = pd.DataFrame(df1['pos'].to_list(), columns = ['posX', 'posY','posZ'])"
   ]
  },
  {
   "cell_type": "code",
   "execution_count": 7,
   "id": "dd8060f6",
   "metadata": {},
   "outputs": [],
   "source": [
    "split.head()"
   ]
  },
  {
   "cell_type": "code",
   "execution_count": 8,
   "id": "7d03e52d",
   "metadata": {},
   "outputs": [],
   "source": [
    "split = split.drop('posZ',axis=1)"
   ]
  },
  {
   "cell_type": "code",
   "execution_count": 9,
   "id": "cad1e958",
   "metadata": {},
   "outputs": [],
   "source": [
    "df1 = pd.concat([df1, split], axis=1) "
   ]
  },
  {
   "cell_type": "code",
   "execution_count": 10,
   "id": "6bc356fc",
   "metadata": {},
   "outputs": [],
   "source": [
    "df1.head()"
   ]
  },
  {
   "cell_type": "code",
   "execution_count": 11,
   "id": "f36972ff",
   "metadata": {},
   "outputs": [],
   "source": [
    "df1 = df1.drop('pos',axis=1)"
   ]
  },
  {
   "cell_type": "code",
   "execution_count": 12,
   "id": "02db9ec9",
   "metadata": {},
   "outputs": [],
   "source": [
    "split = pd.DataFrame(df1['spd'].to_list(), columns = ['spdX', 'spdY','spdZ'])"
   ]
  },
  {
   "cell_type": "code",
   "execution_count": 13,
   "id": "accaa274",
   "metadata": {},
   "outputs": [],
   "source": [
    "split = split.drop('spdZ',axis=1)"
   ]
  },
  {
   "cell_type": "code",
   "execution_count": 14,
   "id": "3373dbf0",
   "metadata": {},
   "outputs": [],
   "source": [
    "split.head()"
   ]
  },
  {
   "cell_type": "code",
   "execution_count": 15,
   "id": "49b3e6ba",
   "metadata": {},
   "outputs": [],
   "source": [
    "df1 = pd.concat([df1, split], axis=1) "
   ]
  },
  {
   "cell_type": "code",
   "execution_count": 16,
   "id": "ea4d4fbb",
   "metadata": {},
   "outputs": [],
   "source": [
    "df1.head()"
   ]
  },
  {
   "cell_type": "code",
   "execution_count": 17,
   "id": "bd2fe035",
   "metadata": {},
   "outputs": [],
   "source": [
    "df1 = df1.drop('spd',axis=1)"
   ]
  },
  {
   "cell_type": "code",
   "execution_count": 18,
   "id": "a01f3ec4",
   "metadata": {},
   "outputs": [],
   "source": [
    "df1.head()"
   ]
  },
  {
   "cell_type": "code",
   "execution_count": 19,
   "id": "476a03a6",
   "metadata": {},
   "outputs": [],
   "source": [
    "df1"
   ]
  },
  {
   "cell_type": "code",
   "execution_count": 20,
   "id": "5ebbddf5",
   "metadata": {},
   "outputs": [],
   "source": [
    "mini = min(df1['posX'].min(),df1['posY'].min())\n",
    "print(mini)\n",
    "maxi = max(df1['posX'].max(),df1['posY'].max())\n",
    "print(maxi)"
   ]
  },
  {
   "cell_type": "code",
   "execution_count": 21,
   "id": "ef98e30c",
   "metadata": {},
   "outputs": [],
   "source": [
    "df1['posX'] = (df1['posX'] - mini)/(maxi - mini)"
   ]
  },
  {
   "cell_type": "code",
   "execution_count": 22,
   "id": "9b765f2f",
   "metadata": {},
   "outputs": [],
   "source": [
    "df1['posY'] = (df1['posY'] - mini)/(maxi - mini)"
   ]
  },
  {
   "cell_type": "code",
   "execution_count": 23,
   "id": "b70de934",
   "metadata": {},
   "outputs": [],
   "source": [
    "mini = min(df1['spdX'].min(),df1['spdY'].min())\n",
    "print(mini)\n",
    "maxi = max(df1['spdX'].max(),df1['spdY'].max())\n",
    "print(maxi)"
   ]
  },
  {
   "cell_type": "code",
   "execution_count": 24,
   "id": "10a054a6",
   "metadata": {},
   "outputs": [],
   "source": [
    "df1['spdX'] = ((df1['spdX'] - mini)/(maxi - mini))*2 -1 "
   ]
  },
  {
   "cell_type": "code",
   "execution_count": 25,
   "id": "f8bfa1d5",
   "metadata": {},
   "outputs": [],
   "source": [
    "df1['spdY'] = ((df1['spdY'] - mini)/(maxi - mini))*2 -1 "
   ]
  },
  {
   "cell_type": "code",
   "execution_count": 26,
   "id": "cd0726fe",
   "metadata": {},
   "outputs": [],
   "source": [
    "df1.head()"
   ]
  },
  {
   "cell_type": "code",
   "execution_count": null,
   "id": "c181c868",
   "metadata": {},
   "outputs": [],
   "source": []
  },
  {
   "cell_type": "code",
   "execution_count": 27,
   "id": "ab487c13",
   "metadata": {},
   "outputs": [],
   "source": [
    "input_comb = []\n",
    "\n",
    "for i in range(len(df)):\n",
    "    if i%20==0 and len(df)-i>20:\n",
    "        curr = []\n",
    "        for j in range(20):\n",
    "            curr.append(np.array(df1.iloc[i+j]))\n",
    "        input_comb.append(curr)\n",
    "\n",
    "input_comb = np.array(input_comb)\n",
    "input_comb = torch.from_numpy(input_comb)"
   ]
  },
  {
   "cell_type": "code",
   "execution_count": 28,
   "id": "80f6364b",
   "metadata": {},
   "outputs": [],
   "source": [
    "input_comb"
   ]
  },
  {
   "cell_type": "code",
   "execution_count": 29,
   "id": "e9da326c",
   "metadata": {},
   "outputs": [],
   "source": [
    "class Dataset(torch.utils.data.Dataset):\n",
    "#   'Characterizes a dataset for PyTorch'\n",
    "    def __init__(self, list_IDs, labels):\n",
    "#         'Initialization'\n",
    "        self.labels = labels\n",
    "        self.list_IDs = list_IDs\n",
    "        \n",
    "    def __len__(self):\n",
    "#         'Denotes the total number of samples'\n",
    "        return len(self.list_IDs)\n",
    "\n",
    "    def __getitem__(self, index):\n",
    "#         'Generates one sample of data'\n",
    "        # Select sample\n",
    "        ID = self.list_IDs[index]\n",
    "\n",
    "        # Load data and get label\n",
    "        X = torch.load('data/' + ID + '.pt')\n",
    "        y = self.labels[ID]\n",
    "\n",
    "        return X, y"
   ]
  },
  {
   "cell_type": "code",
   "execution_count": 30,
   "id": "9267402e",
   "metadata": {},
   "outputs": [],
   "source": [
    "labels = torch.zeros(len(input_comb))\n",
    "labels.shape"
   ]
  },
  {
   "cell_type": "code",
   "execution_count": 31,
   "id": "baf7fac6",
   "metadata": {},
   "outputs": [],
   "source": [
    "X_train, X_rem, y_train, y_rem = train_test_split(input_comb,labels, train_size=0.85)\n",
    "X_valid, X_test, y_valid, y_test = train_test_split(X_rem,y_rem, test_size=0.5)"
   ]
  },
  {
   "cell_type": "code",
   "execution_count": 32,
   "id": "c0d9d75d",
   "metadata": {},
   "outputs": [],
   "source": [
    "training_data = Dataset(X_train,y_train)\n",
    "validation_data = Dataset(X_valid,y_valid)\n",
    "test_data = Dataset(X_test,y_test)"
   ]
  },
  {
   "cell_type": "code",
   "execution_count": 33,
   "id": "763ad183",
   "metadata": {},
   "outputs": [],
   "source": [
    "train_dataloader = DataLoader(training_data, batch_size=32, shuffle=True)\n",
    "val_dataloader = DataLoader(training_data, batch_size=32, shuffle=True)\n",
    "test_dataloader = DataLoader(test_data, batch_size=32, shuffle=True)"
   ]
  },
  {
   "cell_type": "code",
   "execution_count": null,
   "id": "5f0961c4",
   "metadata": {},
   "outputs": [],
   "source": []
  },
  {
   "cell_type": "code",
   "execution_count": 34,
   "id": "bd25e331",
   "metadata": {},
   "outputs": [],
   "source": [
    "class CNN_LSTM(nn.Module):\n",
    "    def __init__(self):\n",
    "        super().__init__()\n",
    "        self.conv = nn.Conv1d(in_channels=20, out_channels=20, kernel_size=3)\n",
    "        \n",
    "        self.lstm1 = nn.LSTM(input_size=2,hidden_size=2,num_layers=256)\n",
    "        self.lstm2 = nn.LSTM(input_size=2,hidden_size=2,num_layers=256)\n",
    "        self.lstm3 = nn.LSTM(input_size=2,hidden_size=2,num_layers=256)\n",
    "        self.lstm4 = nn.LSTM(input_size=2,hidden_size=2,num_layers=256)\n",
    "        \n",
    "        self.lin1 = nn.Linear(2,1)\n",
    "        self.lin2 = nn.Linear(4,2)\n",
    "        \n",
    "    def forward(self,x):\n",
    "        h0_1 = torch.randn(256,2)\n",
    "        c0_1 = torch.randn(256,2)\n",
    "        h0_2 = torch.randn(256,2)\n",
    "        c0_2 = torch.randn(256,2)\n",
    "        h0_3 = torch.randn(256,2)\n",
    "        c0_3 = torch.randn(256,2)\n",
    "        h0_4 = torch.randn(256,2)\n",
    "        c0_4 = torch.randn(256,2)\n",
    "        \n",
    "        \n",
    "        x = self.conv(x)\n",
    "        \n",
    "        o1, _ = self.lstm1(x,(h0_1,c0_1))\n",
    "        o2, _ = self.lstm2(x,(h0_2,c0_2))\n",
    "        o3, _ = self.lstm3(x,(h0_3,c0_3))\n",
    "        o4, _ = self.lstm4(x,(h0_4,c0_4))\n",
    "        \n",
    "        out1 = self.lin1(o1)\n",
    "        out2 = self.lin1(o2)\n",
    "        out3 = self.lin1(o3)\n",
    "        out4 = self.lin1(o4)\n",
    "        \n",
    "        out_comb = torch.stack((out1,out2,out3,out4),dim=1)\n",
    "        out_comb = out_comb.squeeze()\n",
    "        \n",
    "        out_final = self.lin2(out_comb)\n",
    "        \n",
    "        return out_final"
   ]
  },
  {
   "cell_type": "code",
   "execution_count": 35,
   "id": "d6256bba",
   "metadata": {
    "scrolled": false
   },
   "outputs": [],
   "source": [
    "input = input_comb[0]\n",
    "# input = torch.randn(20,4)\n",
    "print(input)"
   ]
  },
  {
   "cell_type": "code",
   "execution_count": 36,
   "id": "486b5333",
   "metadata": {},
   "outputs": [],
   "source": [
    "model = CNN_LSTM()"
   ]
  },
  {
   "cell_type": "code",
   "execution_count": 37,
   "id": "b936fbff",
   "metadata": {},
   "outputs": [],
   "source": [
    "output = model(input.float())"
   ]
  },
  {
   "cell_type": "code",
   "execution_count": 38,
   "id": "32e187ac",
   "metadata": {
    "scrolled": false
   },
   "outputs": [],
   "source": [
    "output"
   ]
  },
  {
   "cell_type": "code",
   "execution_count": 39,
   "id": "365fc305",
   "metadata": {},
   "outputs": [],
   "source": [
    "criterion = nn.L1Loss()\n",
    "optimizer = optim.SGD(model.parameters(), lr=0.001, momentum=0.9)"
   ]
  },
  {
   "cell_type": "code",
   "execution_count": null,
   "id": "441aca82",
   "metadata": {},
   "outputs": [],
   "source": []
  },
  {
   "cell_type": "code",
   "execution_count": 40,
   "id": "9721d447",
   "metadata": {},
   "outputs": [],
   "source": [
    "def thresholding_algorithm(X, Y, iterations=100, starting_threshold=0, precision=0.1):\n",
    "    device = X.device # get the device of the input tensors\n",
    "    N = iterations\n",
    "    threshold = torch.linspace(starting_threshold, starting_threshold + (N-1)*precision, N, device=device)\n",
    "    st = starting_threshold\n",
    "    pre = precision\n",
    "    m = int(torch.ceil(torch.log10(torch.Tensor([N]).to(device))))\n",
    "    for l in range(m):\n",
    "        Accuracy = torch.zeros(N, device=device)\n",
    "        for i in range(N):\n",
    "            for j in range(len(X)):\n",
    "                mae = torch.mean(torch.abs(X[j]-X[j]))\n",
    "                if (mae < threshold[i] and Y[j] == 0) or (mae > threshold[i] and Y[j] != 0):\n",
    "                    Accuracy[i] += 1/len(X)\n",
    "        threshold_max = st + (torch.argmax(Accuracy))/pre\n",
    "        en = st + ((torch.argmax(Accuracy) + 1)/pre)\n",
    "        st = st + ((torch.argmax(Accuracy) - 1)/pre)\n",
    "        pre *= 10\n",
    "        N = int((en - st) * pre)\n",
    "        threshold = torch.linspace(st, en, N, device=device)\n",
    "    return threshold_max"
   ]
  },
  {
   "cell_type": "code",
   "execution_count": 41,
   "id": "eb93b781",
   "metadata": {},
   "outputs": [],
   "source": [
    "thresholding_algorithm(X_train,y_train)"
   ]
  },
  {
   "cell_type": "code",
   "execution_count": null,
   "id": "f83e0337",
   "metadata": {},
   "outputs": [],
   "source": []
  }
 ],
 "metadata": {
  "kernelspec": {
   "display_name": "venv",
   "language": "python",
   "name": "venv"
  },
  "language_info": {
   "codemirror_mode": {
    "name": "ipython",
    "version": 3
   },
   "file_extension": ".py",
   "mimetype": "text/x-python",
   "name": "python",
   "nbconvert_exporter": "python",
   "pygments_lexer": "ipython3",
   "version": "3.10.10"
  }
 },
 "nbformat": 4,
 "nbformat_minor": 5
}
