{
 "cells": [
  {
   "cell_type": "code",
   "execution_count": 1,
   "id": "0306ec7c",
   "metadata": {},
   "outputs": [],
   "source": [
    "import pandas as pd\n",
    "import numpy as np\n",
    "import torch\n",
    "import torch.nn as nn\n",
    "import sklearn\n",
    "from torch.utils.data import DataLoader\n",
    "from sklearn.model_selection import train_test_split\n",
    "from torch import optim"
   ]
  },
  {
   "cell_type": "code",
   "execution_count": 3,
   "id": "41044656",
   "metadata": {},
   "outputs": [],
   "source": [
    "df = pd.read_json(r'Dataset\\VeReMi_0_3600_2022-9-11_12.51.1\\VeReMi_0_3600_2022-9-11_12_51_1\\traceGroundTruthJSON-0.json',lines=True)"
   ]
  },
  {
   "cell_type": "code",
   "execution_count": 4,
   "id": "4f94f0d2",
   "metadata": {},
   "outputs": [
    {
     "data": {
      "text/html": [
       "<div>\n",
       "<style scoped>\n",
       "    .dataframe tbody tr th:only-of-type {\n",
       "        vertical-align: middle;\n",
       "    }\n",
       "\n",
       "    .dataframe tbody tr th {\n",
       "        vertical-align: top;\n",
       "    }\n",
       "\n",
       "    .dataframe thead th {\n",
       "        text-align: right;\n",
       "    }\n",
       "</style>\n",
       "<table border=\"1\" class=\"dataframe\">\n",
       "  <thead>\n",
       "    <tr style=\"text-align: right;\">\n",
       "      <th></th>\n",
       "      <th>type</th>\n",
       "      <th>sendTime</th>\n",
       "      <th>sender</th>\n",
       "      <th>senderPseudo</th>\n",
       "      <th>messageID</th>\n",
       "      <th>pos</th>\n",
       "      <th>pos_noise</th>\n",
       "      <th>spd</th>\n",
       "      <th>spd_noise</th>\n",
       "      <th>acl</th>\n",
       "      <th>acl_noise</th>\n",
       "      <th>hed</th>\n",
       "      <th>hed_noise</th>\n",
       "    </tr>\n",
       "  </thead>\n",
       "  <tbody>\n",
       "    <tr>\n",
       "      <th>0</th>\n",
       "      <td>4</td>\n",
       "      <td>240.602763</td>\n",
       "      <td>9</td>\n",
       "      <td>1092</td>\n",
       "      <td>4184</td>\n",
       "      <td>[266.1342377193001, 41.31755030776682, 0.0]</td>\n",
       "      <td>[4.534752768029631, 4.549525298598843, 0.0]</td>\n",
       "      <td>[-0.08087719292206601, 0.7826628559043071, 0.0]</td>\n",
       "      <td>[5.8479561322000003e-05, -0.000565907804593, 0.0]</td>\n",
       "      <td>[-0.264399876770306, 2.55929226383305, 0.0]</td>\n",
       "      <td>[0.000781535042957, 0.000157147677041, 0.0]</td>\n",
       "      <td>[-0.10279023863398801, 0.9947030546055271, 0.0]</td>\n",
       "      <td>[0.34491692230051, 0.31638175763944104, 0.0]</td>\n",
       "    </tr>\n",
       "    <tr>\n",
       "      <th>1</th>\n",
       "      <td>4</td>\n",
       "      <td>241.602763</td>\n",
       "      <td>9</td>\n",
       "      <td>1092</td>\n",
       "      <td>4194</td>\n",
       "      <td>[266.06130476311273, 43.37327132906824, 0.0]</td>\n",
       "      <td>[4.476469413385379, 4.331702683063567, 0.0]</td>\n",
       "      <td>[-0.307226018249808, 2.973074697703729, 0.0]</td>\n",
       "      <td>[0.00022214435466300002, -0.002149695059419, 0.0]</td>\n",
       "      <td>[-0.16867421025649001, 1.632928207206669, 0.0]</td>\n",
       "      <td>[0.00016366479334100001, 0.0015837872548250002...</td>\n",
       "      <td>[-0.102682182286077, 0.994714214958733, 0.0]</td>\n",
       "      <td>[0.352813203036476, 0.25414594164242404, 0.0]</td>\n",
       "    </tr>\n",
       "    <tr>\n",
       "      <th>2</th>\n",
       "      <td>4</td>\n",
       "      <td>242.602763</td>\n",
       "      <td>9</td>\n",
       "      <td>1092</td>\n",
       "      <td>4204</td>\n",
       "      <td>[265.50620000532376, 47.479615917740944, 0.0]</td>\n",
       "      <td>[4.642016156453815, 4.406704772182185, 0.0]</td>\n",
       "      <td>[-0.522133162849577, 5.052698244401898, 0.0]</td>\n",
       "      <td>[0.00037753164498000003, -0.003653380763227, 0.0]</td>\n",
       "      <td>[-0.250340680719852, 2.423187784894591, 0.0]</td>\n",
       "      <td>[0.00015538729031600002, 0.0015036857038070001...</td>\n",
       "      <td>[-0.10254626897553601, 0.994728235609705, 0.0]</td>\n",
       "      <td>[0.360477346594304, 0.20642682168206902, 0.0]</td>\n",
       "    </tr>\n",
       "    <tr>\n",
       "      <th>3</th>\n",
       "      <td>4</td>\n",
       "      <td>243.602763</td>\n",
       "      <td>9</td>\n",
       "      <td>1092</td>\n",
       "      <td>4214</td>\n",
       "      <td>[264.8798230282204, 53.81269421777557, 0.0]</td>\n",
       "      <td>[4.46289078603543, 4.600132676334774, 0.0]</td>\n",
       "      <td>[-0.7501579494382471, 7.25934146781901, 0.0]</td>\n",
       "      <td>[0.0005424091366300001, -0.005248903322175, 0.0]</td>\n",
       "      <td>[-0.15859373985413902, 1.535395525905717, 0.0]</td>\n",
       "      <td>[0.000164877491649, 0.001595522558947, 0.0]</td>\n",
       "      <td>[-0.10231333056359201, 0.9947522216054531, 0.0]</td>\n",
       "      <td>[0.368791704558564, 0.165551455629279, 0.0]</td>\n",
       "    </tr>\n",
       "    <tr>\n",
       "      <th>4</th>\n",
       "      <td>4</td>\n",
       "      <td>244.602763</td>\n",
       "      <td>9</td>\n",
       "      <td>1092</td>\n",
       "      <td>4224</td>\n",
       "      <td>[263.74132084628656, 62.04745136461824, 0.0]</td>\n",
       "      <td>[4.359550875382791, 4.449767087397457, 0.0]</td>\n",
       "      <td>[-1.196011717133152, 9.262387108898814, 0.0]</td>\n",
       "      <td>[0.000864806049117, -0.006697196551177001, 0.0]</td>\n",
       "      <td>[-0.323323397706463, 2.504311894356131, 0.0]</td>\n",
       "      <td>[0.00032239691248600003, 0.001448293229002, 0.0]</td>\n",
       "      <td>[-0.12733117487307702, 0.9918602582548821, 0.0]</td>\n",
       "      <td>[0.38560754428035204, 0.135501165937049, 0.0]</td>\n",
       "    </tr>\n",
       "  </tbody>\n",
       "</table>\n",
       "</div>"
      ],
      "text/plain": [
       "   type    sendTime  sender  senderPseudo  messageID  \\\n",
       "0     4  240.602763       9          1092       4184   \n",
       "1     4  241.602763       9          1092       4194   \n",
       "2     4  242.602763       9          1092       4204   \n",
       "3     4  243.602763       9          1092       4214   \n",
       "4     4  244.602763       9          1092       4224   \n",
       "\n",
       "                                             pos  \\\n",
       "0    [266.1342377193001, 41.31755030776682, 0.0]   \n",
       "1   [266.06130476311273, 43.37327132906824, 0.0]   \n",
       "2  [265.50620000532376, 47.479615917740944, 0.0]   \n",
       "3    [264.8798230282204, 53.81269421777557, 0.0]   \n",
       "4   [263.74132084628656, 62.04745136461824, 0.0]   \n",
       "\n",
       "                                     pos_noise  \\\n",
       "0  [4.534752768029631, 4.549525298598843, 0.0]   \n",
       "1  [4.476469413385379, 4.331702683063567, 0.0]   \n",
       "2  [4.642016156453815, 4.406704772182185, 0.0]   \n",
       "3   [4.46289078603543, 4.600132676334774, 0.0]   \n",
       "4  [4.359550875382791, 4.449767087397457, 0.0]   \n",
       "\n",
       "                                               spd  \\\n",
       "0  [-0.08087719292206601, 0.7826628559043071, 0.0]   \n",
       "1     [-0.307226018249808, 2.973074697703729, 0.0]   \n",
       "2     [-0.522133162849577, 5.052698244401898, 0.0]   \n",
       "3     [-0.7501579494382471, 7.25934146781901, 0.0]   \n",
       "4     [-1.196011717133152, 9.262387108898814, 0.0]   \n",
       "\n",
       "                                           spd_noise  \\\n",
       "0  [5.8479561322000003e-05, -0.000565907804593, 0.0]   \n",
       "1  [0.00022214435466300002, -0.002149695059419, 0.0]   \n",
       "2  [0.00037753164498000003, -0.003653380763227, 0.0]   \n",
       "3   [0.0005424091366300001, -0.005248903322175, 0.0]   \n",
       "4    [0.000864806049117, -0.006697196551177001, 0.0]   \n",
       "\n",
       "                                              acl  \\\n",
       "0     [-0.264399876770306, 2.55929226383305, 0.0]   \n",
       "1  [-0.16867421025649001, 1.632928207206669, 0.0]   \n",
       "2    [-0.250340680719852, 2.423187784894591, 0.0]   \n",
       "3  [-0.15859373985413902, 1.535395525905717, 0.0]   \n",
       "4    [-0.323323397706463, 2.504311894356131, 0.0]   \n",
       "\n",
       "                                           acl_noise  \\\n",
       "0        [0.000781535042957, 0.000157147677041, 0.0]   \n",
       "1  [0.00016366479334100001, 0.0015837872548250002...   \n",
       "2  [0.00015538729031600002, 0.0015036857038070001...   \n",
       "3        [0.000164877491649, 0.001595522558947, 0.0]   \n",
       "4   [0.00032239691248600003, 0.001448293229002, 0.0]   \n",
       "\n",
       "                                               hed  \\\n",
       "0  [-0.10279023863398801, 0.9947030546055271, 0.0]   \n",
       "1     [-0.102682182286077, 0.994714214958733, 0.0]   \n",
       "2   [-0.10254626897553601, 0.994728235609705, 0.0]   \n",
       "3  [-0.10231333056359201, 0.9947522216054531, 0.0]   \n",
       "4  [-0.12733117487307702, 0.9918602582548821, 0.0]   \n",
       "\n",
       "                                       hed_noise  \n",
       "0   [0.34491692230051, 0.31638175763944104, 0.0]  \n",
       "1  [0.352813203036476, 0.25414594164242404, 0.0]  \n",
       "2  [0.360477346594304, 0.20642682168206902, 0.0]  \n",
       "3    [0.368791704558564, 0.165551455629279, 0.0]  \n",
       "4  [0.38560754428035204, 0.135501165937049, 0.0]  "
      ]
     },
     "execution_count": 4,
     "metadata": {},
     "output_type": "execute_result"
    }
   ],
   "source": [
    "df.head()"
   ]
  },
  {
   "cell_type": "code",
   "execution_count": 5,
   "id": "0e91251a",
   "metadata": {},
   "outputs": [],
   "source": [
    "df1 = df[['pos','spd']]"
   ]
  },
  {
   "cell_type": "code",
   "execution_count": 6,
   "id": "e0fc1dc8",
   "metadata": {},
   "outputs": [
    {
     "data": {
      "text/html": [
       "<div>\n",
       "<style scoped>\n",
       "    .dataframe tbody tr th:only-of-type {\n",
       "        vertical-align: middle;\n",
       "    }\n",
       "\n",
       "    .dataframe tbody tr th {\n",
       "        vertical-align: top;\n",
       "    }\n",
       "\n",
       "    .dataframe thead th {\n",
       "        text-align: right;\n",
       "    }\n",
       "</style>\n",
       "<table border=\"1\" class=\"dataframe\">\n",
       "  <thead>\n",
       "    <tr style=\"text-align: right;\">\n",
       "      <th></th>\n",
       "      <th>pos</th>\n",
       "      <th>spd</th>\n",
       "    </tr>\n",
       "  </thead>\n",
       "  <tbody>\n",
       "    <tr>\n",
       "      <th>0</th>\n",
       "      <td>[266.1342377193001, 41.31755030776682, 0.0]</td>\n",
       "      <td>[-0.08087719292206601, 0.7826628559043071, 0.0]</td>\n",
       "    </tr>\n",
       "    <tr>\n",
       "      <th>1</th>\n",
       "      <td>[266.06130476311273, 43.37327132906824, 0.0]</td>\n",
       "      <td>[-0.307226018249808, 2.973074697703729, 0.0]</td>\n",
       "    </tr>\n",
       "    <tr>\n",
       "      <th>2</th>\n",
       "      <td>[265.50620000532376, 47.479615917740944, 0.0]</td>\n",
       "      <td>[-0.522133162849577, 5.052698244401898, 0.0]</td>\n",
       "    </tr>\n",
       "    <tr>\n",
       "      <th>3</th>\n",
       "      <td>[264.8798230282204, 53.81269421777557, 0.0]</td>\n",
       "      <td>[-0.7501579494382471, 7.25934146781901, 0.0]</td>\n",
       "    </tr>\n",
       "    <tr>\n",
       "      <th>4</th>\n",
       "      <td>[263.74132084628656, 62.04745136461824, 0.0]</td>\n",
       "      <td>[-1.196011717133152, 9.262387108898814, 0.0]</td>\n",
       "    </tr>\n",
       "  </tbody>\n",
       "</table>\n",
       "</div>"
      ],
      "text/plain": [
       "                                             pos  \\\n",
       "0    [266.1342377193001, 41.31755030776682, 0.0]   \n",
       "1   [266.06130476311273, 43.37327132906824, 0.0]   \n",
       "2  [265.50620000532376, 47.479615917740944, 0.0]   \n",
       "3    [264.8798230282204, 53.81269421777557, 0.0]   \n",
       "4   [263.74132084628656, 62.04745136461824, 0.0]   \n",
       "\n",
       "                                               spd  \n",
       "0  [-0.08087719292206601, 0.7826628559043071, 0.0]  \n",
       "1     [-0.307226018249808, 2.973074697703729, 0.0]  \n",
       "2     [-0.522133162849577, 5.052698244401898, 0.0]  \n",
       "3     [-0.7501579494382471, 7.25934146781901, 0.0]  \n",
       "4     [-1.196011717133152, 9.262387108898814, 0.0]  "
      ]
     },
     "execution_count": 6,
     "metadata": {},
     "output_type": "execute_result"
    }
   ],
   "source": [
    "df1.head()"
   ]
  },
  {
   "cell_type": "code",
   "execution_count": 6,
   "id": "4b49c5b9",
   "metadata": {},
   "outputs": [],
   "source": [
    "split = pd.DataFrame(df1['pos'].to_list(), columns = ['posX', 'posY','posZ'])"
   ]
  },
  {
   "cell_type": "code",
   "execution_count": 7,
   "id": "dd8060f6",
   "metadata": {},
   "outputs": [
    {
     "data": {
      "text/html": [
       "<div>\n",
       "<style scoped>\n",
       "    .dataframe tbody tr th:only-of-type {\n",
       "        vertical-align: middle;\n",
       "    }\n",
       "\n",
       "    .dataframe tbody tr th {\n",
       "        vertical-align: top;\n",
       "    }\n",
       "\n",
       "    .dataframe thead th {\n",
       "        text-align: right;\n",
       "    }\n",
       "</style>\n",
       "<table border=\"1\" class=\"dataframe\">\n",
       "  <thead>\n",
       "    <tr style=\"text-align: right;\">\n",
       "      <th></th>\n",
       "      <th>posX</th>\n",
       "      <th>posY</th>\n",
       "      <th>posZ</th>\n",
       "    </tr>\n",
       "  </thead>\n",
       "  <tbody>\n",
       "    <tr>\n",
       "      <th>0</th>\n",
       "      <td>266.134238</td>\n",
       "      <td>41.317550</td>\n",
       "      <td>0.0</td>\n",
       "    </tr>\n",
       "    <tr>\n",
       "      <th>1</th>\n",
       "      <td>266.061305</td>\n",
       "      <td>43.373271</td>\n",
       "      <td>0.0</td>\n",
       "    </tr>\n",
       "    <tr>\n",
       "      <th>2</th>\n",
       "      <td>265.506200</td>\n",
       "      <td>47.479616</td>\n",
       "      <td>0.0</td>\n",
       "    </tr>\n",
       "    <tr>\n",
       "      <th>3</th>\n",
       "      <td>264.879823</td>\n",
       "      <td>53.812694</td>\n",
       "      <td>0.0</td>\n",
       "    </tr>\n",
       "    <tr>\n",
       "      <th>4</th>\n",
       "      <td>263.741321</td>\n",
       "      <td>62.047451</td>\n",
       "      <td>0.0</td>\n",
       "    </tr>\n",
       "  </tbody>\n",
       "</table>\n",
       "</div>"
      ],
      "text/plain": [
       "         posX       posY  posZ\n",
       "0  266.134238  41.317550   0.0\n",
       "1  266.061305  43.373271   0.0\n",
       "2  265.506200  47.479616   0.0\n",
       "3  264.879823  53.812694   0.0\n",
       "4  263.741321  62.047451   0.0"
      ]
     },
     "execution_count": 7,
     "metadata": {},
     "output_type": "execute_result"
    }
   ],
   "source": [
    "split.head()"
   ]
  },
  {
   "cell_type": "code",
   "execution_count": 8,
   "id": "7d03e52d",
   "metadata": {},
   "outputs": [],
   "source": [
    "split = split.drop('posZ',axis=1)"
   ]
  },
  {
   "cell_type": "code",
   "execution_count": 9,
   "id": "cad1e958",
   "metadata": {},
   "outputs": [],
   "source": [
    "df1 = pd.concat([df1, split], axis=1) "
   ]
  },
  {
   "cell_type": "code",
   "execution_count": 10,
   "id": "6bc356fc",
   "metadata": {},
   "outputs": [
    {
     "data": {
      "text/html": [
       "<div>\n",
       "<style scoped>\n",
       "    .dataframe tbody tr th:only-of-type {\n",
       "        vertical-align: middle;\n",
       "    }\n",
       "\n",
       "    .dataframe tbody tr th {\n",
       "        vertical-align: top;\n",
       "    }\n",
       "\n",
       "    .dataframe thead th {\n",
       "        text-align: right;\n",
       "    }\n",
       "</style>\n",
       "<table border=\"1\" class=\"dataframe\">\n",
       "  <thead>\n",
       "    <tr style=\"text-align: right;\">\n",
       "      <th></th>\n",
       "      <th>pos</th>\n",
       "      <th>spd</th>\n",
       "      <th>posX</th>\n",
       "      <th>posY</th>\n",
       "    </tr>\n",
       "  </thead>\n",
       "  <tbody>\n",
       "    <tr>\n",
       "      <th>0</th>\n",
       "      <td>[266.1342377193001, 41.31755030776682, 0.0]</td>\n",
       "      <td>[-0.08087719292206601, 0.7826628559043071, 0.0]</td>\n",
       "      <td>266.134238</td>\n",
       "      <td>41.317550</td>\n",
       "    </tr>\n",
       "    <tr>\n",
       "      <th>1</th>\n",
       "      <td>[266.06130476311273, 43.37327132906824, 0.0]</td>\n",
       "      <td>[-0.307226018249808, 2.973074697703729, 0.0]</td>\n",
       "      <td>266.061305</td>\n",
       "      <td>43.373271</td>\n",
       "    </tr>\n",
       "    <tr>\n",
       "      <th>2</th>\n",
       "      <td>[265.50620000532376, 47.479615917740944, 0.0]</td>\n",
       "      <td>[-0.522133162849577, 5.052698244401898, 0.0]</td>\n",
       "      <td>265.506200</td>\n",
       "      <td>47.479616</td>\n",
       "    </tr>\n",
       "    <tr>\n",
       "      <th>3</th>\n",
       "      <td>[264.8798230282204, 53.81269421777557, 0.0]</td>\n",
       "      <td>[-0.7501579494382471, 7.25934146781901, 0.0]</td>\n",
       "      <td>264.879823</td>\n",
       "      <td>53.812694</td>\n",
       "    </tr>\n",
       "    <tr>\n",
       "      <th>4</th>\n",
       "      <td>[263.74132084628656, 62.04745136461824, 0.0]</td>\n",
       "      <td>[-1.196011717133152, 9.262387108898814, 0.0]</td>\n",
       "      <td>263.741321</td>\n",
       "      <td>62.047451</td>\n",
       "    </tr>\n",
       "  </tbody>\n",
       "</table>\n",
       "</div>"
      ],
      "text/plain": [
       "                                             pos  \\\n",
       "0    [266.1342377193001, 41.31755030776682, 0.0]   \n",
       "1   [266.06130476311273, 43.37327132906824, 0.0]   \n",
       "2  [265.50620000532376, 47.479615917740944, 0.0]   \n",
       "3    [264.8798230282204, 53.81269421777557, 0.0]   \n",
       "4   [263.74132084628656, 62.04745136461824, 0.0]   \n",
       "\n",
       "                                               spd        posX       posY  \n",
       "0  [-0.08087719292206601, 0.7826628559043071, 0.0]  266.134238  41.317550  \n",
       "1     [-0.307226018249808, 2.973074697703729, 0.0]  266.061305  43.373271  \n",
       "2     [-0.522133162849577, 5.052698244401898, 0.0]  265.506200  47.479616  \n",
       "3     [-0.7501579494382471, 7.25934146781901, 0.0]  264.879823  53.812694  \n",
       "4     [-1.196011717133152, 9.262387108898814, 0.0]  263.741321  62.047451  "
      ]
     },
     "execution_count": 10,
     "metadata": {},
     "output_type": "execute_result"
    }
   ],
   "source": [
    "df1.head()"
   ]
  },
  {
   "cell_type": "code",
   "execution_count": 11,
   "id": "f36972ff",
   "metadata": {},
   "outputs": [],
   "source": [
    "df1 = df1.drop('pos',axis=1)"
   ]
  },
  {
   "cell_type": "code",
   "execution_count": 12,
   "id": "02db9ec9",
   "metadata": {},
   "outputs": [],
   "source": [
    "split = pd.DataFrame(df1['spd'].to_list(), columns = ['spdX', 'spdY','spdZ'])"
   ]
  },
  {
   "cell_type": "code",
   "execution_count": 13,
   "id": "accaa274",
   "metadata": {},
   "outputs": [],
   "source": [
    "split = split.drop('spdZ',axis=1)"
   ]
  },
  {
   "cell_type": "code",
   "execution_count": 14,
   "id": "3373dbf0",
   "metadata": {},
   "outputs": [
    {
     "data": {
      "text/html": [
       "<div>\n",
       "<style scoped>\n",
       "    .dataframe tbody tr th:only-of-type {\n",
       "        vertical-align: middle;\n",
       "    }\n",
       "\n",
       "    .dataframe tbody tr th {\n",
       "        vertical-align: top;\n",
       "    }\n",
       "\n",
       "    .dataframe thead th {\n",
       "        text-align: right;\n",
       "    }\n",
       "</style>\n",
       "<table border=\"1\" class=\"dataframe\">\n",
       "  <thead>\n",
       "    <tr style=\"text-align: right;\">\n",
       "      <th></th>\n",
       "      <th>spdX</th>\n",
       "      <th>spdY</th>\n",
       "    </tr>\n",
       "  </thead>\n",
       "  <tbody>\n",
       "    <tr>\n",
       "      <th>0</th>\n",
       "      <td>-0.080877</td>\n",
       "      <td>0.782663</td>\n",
       "    </tr>\n",
       "    <tr>\n",
       "      <th>1</th>\n",
       "      <td>-0.307226</td>\n",
       "      <td>2.973075</td>\n",
       "    </tr>\n",
       "    <tr>\n",
       "      <th>2</th>\n",
       "      <td>-0.522133</td>\n",
       "      <td>5.052698</td>\n",
       "    </tr>\n",
       "    <tr>\n",
       "      <th>3</th>\n",
       "      <td>-0.750158</td>\n",
       "      <td>7.259341</td>\n",
       "    </tr>\n",
       "    <tr>\n",
       "      <th>4</th>\n",
       "      <td>-1.196012</td>\n",
       "      <td>9.262387</td>\n",
       "    </tr>\n",
       "  </tbody>\n",
       "</table>\n",
       "</div>"
      ],
      "text/plain": [
       "       spdX      spdY\n",
       "0 -0.080877  0.782663\n",
       "1 -0.307226  2.973075\n",
       "2 -0.522133  5.052698\n",
       "3 -0.750158  7.259341\n",
       "4 -1.196012  9.262387"
      ]
     },
     "execution_count": 14,
     "metadata": {},
     "output_type": "execute_result"
    }
   ],
   "source": [
    "split.head()"
   ]
  },
  {
   "cell_type": "code",
   "execution_count": 15,
   "id": "49b3e6ba",
   "metadata": {},
   "outputs": [],
   "source": [
    "df1 = pd.concat([df1, split], axis=1) "
   ]
  },
  {
   "cell_type": "code",
   "execution_count": 16,
   "id": "ea4d4fbb",
   "metadata": {},
   "outputs": [
    {
     "data": {
      "text/html": [
       "<div>\n",
       "<style scoped>\n",
       "    .dataframe tbody tr th:only-of-type {\n",
       "        vertical-align: middle;\n",
       "    }\n",
       "\n",
       "    .dataframe tbody tr th {\n",
       "        vertical-align: top;\n",
       "    }\n",
       "\n",
       "    .dataframe thead th {\n",
       "        text-align: right;\n",
       "    }\n",
       "</style>\n",
       "<table border=\"1\" class=\"dataframe\">\n",
       "  <thead>\n",
       "    <tr style=\"text-align: right;\">\n",
       "      <th></th>\n",
       "      <th>spd</th>\n",
       "      <th>posX</th>\n",
       "      <th>posY</th>\n",
       "      <th>spdX</th>\n",
       "      <th>spdY</th>\n",
       "    </tr>\n",
       "  </thead>\n",
       "  <tbody>\n",
       "    <tr>\n",
       "      <th>0</th>\n",
       "      <td>[-0.08087719292206601, 0.7826628559043071, 0.0]</td>\n",
       "      <td>266.134238</td>\n",
       "      <td>41.317550</td>\n",
       "      <td>-0.080877</td>\n",
       "      <td>0.782663</td>\n",
       "    </tr>\n",
       "    <tr>\n",
       "      <th>1</th>\n",
       "      <td>[-0.307226018249808, 2.973074697703729, 0.0]</td>\n",
       "      <td>266.061305</td>\n",
       "      <td>43.373271</td>\n",
       "      <td>-0.307226</td>\n",
       "      <td>2.973075</td>\n",
       "    </tr>\n",
       "    <tr>\n",
       "      <th>2</th>\n",
       "      <td>[-0.522133162849577, 5.052698244401898, 0.0]</td>\n",
       "      <td>265.506200</td>\n",
       "      <td>47.479616</td>\n",
       "      <td>-0.522133</td>\n",
       "      <td>5.052698</td>\n",
       "    </tr>\n",
       "    <tr>\n",
       "      <th>3</th>\n",
       "      <td>[-0.7501579494382471, 7.25934146781901, 0.0]</td>\n",
       "      <td>264.879823</td>\n",
       "      <td>53.812694</td>\n",
       "      <td>-0.750158</td>\n",
       "      <td>7.259341</td>\n",
       "    </tr>\n",
       "    <tr>\n",
       "      <th>4</th>\n",
       "      <td>[-1.196011717133152, 9.262387108898814, 0.0]</td>\n",
       "      <td>263.741321</td>\n",
       "      <td>62.047451</td>\n",
       "      <td>-1.196012</td>\n",
       "      <td>9.262387</td>\n",
       "    </tr>\n",
       "  </tbody>\n",
       "</table>\n",
       "</div>"
      ],
      "text/plain": [
       "                                               spd        posX       posY  \\\n",
       "0  [-0.08087719292206601, 0.7826628559043071, 0.0]  266.134238  41.317550   \n",
       "1     [-0.307226018249808, 2.973074697703729, 0.0]  266.061305  43.373271   \n",
       "2     [-0.522133162849577, 5.052698244401898, 0.0]  265.506200  47.479616   \n",
       "3     [-0.7501579494382471, 7.25934146781901, 0.0]  264.879823  53.812694   \n",
       "4     [-1.196011717133152, 9.262387108898814, 0.0]  263.741321  62.047451   \n",
       "\n",
       "       spdX      spdY  \n",
       "0 -0.080877  0.782663  \n",
       "1 -0.307226  2.973075  \n",
       "2 -0.522133  5.052698  \n",
       "3 -0.750158  7.259341  \n",
       "4 -1.196012  9.262387  "
      ]
     },
     "execution_count": 16,
     "metadata": {},
     "output_type": "execute_result"
    }
   ],
   "source": [
    "df1.head()"
   ]
  },
  {
   "cell_type": "code",
   "execution_count": 17,
   "id": "bd2fe035",
   "metadata": {},
   "outputs": [],
   "source": [
    "df1 = df1.drop('spd',axis=1)"
   ]
  },
  {
   "cell_type": "code",
   "execution_count": 18,
   "id": "a01f3ec4",
   "metadata": {},
   "outputs": [
    {
     "data": {
      "text/html": [
       "<div>\n",
       "<style scoped>\n",
       "    .dataframe tbody tr th:only-of-type {\n",
       "        vertical-align: middle;\n",
       "    }\n",
       "\n",
       "    .dataframe tbody tr th {\n",
       "        vertical-align: top;\n",
       "    }\n",
       "\n",
       "    .dataframe thead th {\n",
       "        text-align: right;\n",
       "    }\n",
       "</style>\n",
       "<table border=\"1\" class=\"dataframe\">\n",
       "  <thead>\n",
       "    <tr style=\"text-align: right;\">\n",
       "      <th></th>\n",
       "      <th>posX</th>\n",
       "      <th>posY</th>\n",
       "      <th>spdX</th>\n",
       "      <th>spdY</th>\n",
       "    </tr>\n",
       "  </thead>\n",
       "  <tbody>\n",
       "    <tr>\n",
       "      <th>0</th>\n",
       "      <td>266.134238</td>\n",
       "      <td>41.317550</td>\n",
       "      <td>-0.080877</td>\n",
       "      <td>0.782663</td>\n",
       "    </tr>\n",
       "    <tr>\n",
       "      <th>1</th>\n",
       "      <td>266.061305</td>\n",
       "      <td>43.373271</td>\n",
       "      <td>-0.307226</td>\n",
       "      <td>2.973075</td>\n",
       "    </tr>\n",
       "    <tr>\n",
       "      <th>2</th>\n",
       "      <td>265.506200</td>\n",
       "      <td>47.479616</td>\n",
       "      <td>-0.522133</td>\n",
       "      <td>5.052698</td>\n",
       "    </tr>\n",
       "    <tr>\n",
       "      <th>3</th>\n",
       "      <td>264.879823</td>\n",
       "      <td>53.812694</td>\n",
       "      <td>-0.750158</td>\n",
       "      <td>7.259341</td>\n",
       "    </tr>\n",
       "    <tr>\n",
       "      <th>4</th>\n",
       "      <td>263.741321</td>\n",
       "      <td>62.047451</td>\n",
       "      <td>-1.196012</td>\n",
       "      <td>9.262387</td>\n",
       "    </tr>\n",
       "  </tbody>\n",
       "</table>\n",
       "</div>"
      ],
      "text/plain": [
       "         posX       posY      spdX      spdY\n",
       "0  266.134238  41.317550 -0.080877  0.782663\n",
       "1  266.061305  43.373271 -0.307226  2.973075\n",
       "2  265.506200  47.479616 -0.522133  5.052698\n",
       "3  264.879823  53.812694 -0.750158  7.259341\n",
       "4  263.741321  62.047451 -1.196012  9.262387"
      ]
     },
     "execution_count": 18,
     "metadata": {},
     "output_type": "execute_result"
    }
   ],
   "source": [
    "df1.head()"
   ]
  },
  {
   "cell_type": "code",
   "execution_count": 19,
   "id": "476a03a6",
   "metadata": {},
   "outputs": [
    {
     "data": {
      "text/html": [
       "<div>\n",
       "<style scoped>\n",
       "    .dataframe tbody tr th:only-of-type {\n",
       "        vertical-align: middle;\n",
       "    }\n",
       "\n",
       "    .dataframe tbody tr th {\n",
       "        vertical-align: top;\n",
       "    }\n",
       "\n",
       "    .dataframe thead th {\n",
       "        text-align: right;\n",
       "    }\n",
       "</style>\n",
       "<table border=\"1\" class=\"dataframe\">\n",
       "  <thead>\n",
       "    <tr style=\"text-align: right;\">\n",
       "      <th></th>\n",
       "      <th>posX</th>\n",
       "      <th>posY</th>\n",
       "      <th>spdX</th>\n",
       "      <th>spdY</th>\n",
       "    </tr>\n",
       "  </thead>\n",
       "  <tbody>\n",
       "    <tr>\n",
       "      <th>0</th>\n",
       "      <td>266.134238</td>\n",
       "      <td>41.317550</td>\n",
       "      <td>-0.080877</td>\n",
       "      <td>0.782663</td>\n",
       "    </tr>\n",
       "    <tr>\n",
       "      <th>1</th>\n",
       "      <td>266.061305</td>\n",
       "      <td>43.373271</td>\n",
       "      <td>-0.307226</td>\n",
       "      <td>2.973075</td>\n",
       "    </tr>\n",
       "    <tr>\n",
       "      <th>2</th>\n",
       "      <td>265.506200</td>\n",
       "      <td>47.479616</td>\n",
       "      <td>-0.522133</td>\n",
       "      <td>5.052698</td>\n",
       "    </tr>\n",
       "    <tr>\n",
       "      <th>3</th>\n",
       "      <td>264.879823</td>\n",
       "      <td>53.812694</td>\n",
       "      <td>-0.750158</td>\n",
       "      <td>7.259341</td>\n",
       "    </tr>\n",
       "    <tr>\n",
       "      <th>4</th>\n",
       "      <td>263.741321</td>\n",
       "      <td>62.047451</td>\n",
       "      <td>-1.196012</td>\n",
       "      <td>9.262387</td>\n",
       "    </tr>\n",
       "    <tr>\n",
       "      <th>...</th>\n",
       "      <td>...</td>\n",
       "      <td>...</td>\n",
       "      <td>...</td>\n",
       "      <td>...</td>\n",
       "    </tr>\n",
       "    <tr>\n",
       "      <th>5021</th>\n",
       "      <td>139.526900</td>\n",
       "      <td>876.928567</td>\n",
       "      <td>0.001691</td>\n",
       "      <td>0.001691</td>\n",
       "    </tr>\n",
       "    <tr>\n",
       "      <th>5022</th>\n",
       "      <td>139.749557</td>\n",
       "      <td>876.918451</td>\n",
       "      <td>0.001691</td>\n",
       "      <td>0.001691</td>\n",
       "    </tr>\n",
       "    <tr>\n",
       "      <th>5023</th>\n",
       "      <td>139.412345</td>\n",
       "      <td>878.207028</td>\n",
       "      <td>-0.296062</td>\n",
       "      <td>2.253724</td>\n",
       "    </tr>\n",
       "    <tr>\n",
       "      <th>5024</th>\n",
       "      <td>138.107917</td>\n",
       "      <td>881.136414</td>\n",
       "      <td>-1.281437</td>\n",
       "      <td>3.882940</td>\n",
       "    </tr>\n",
       "    <tr>\n",
       "      <th>5025</th>\n",
       "      <td>134.008147</td>\n",
       "      <td>882.956575</td>\n",
       "      <td>-4.211086</td>\n",
       "      <td>1.818290</td>\n",
       "    </tr>\n",
       "  </tbody>\n",
       "</table>\n",
       "<p>5026 rows × 4 columns</p>\n",
       "</div>"
      ],
      "text/plain": [
       "            posX        posY      spdX      spdY\n",
       "0     266.134238   41.317550 -0.080877  0.782663\n",
       "1     266.061305   43.373271 -0.307226  2.973075\n",
       "2     265.506200   47.479616 -0.522133  5.052698\n",
       "3     264.879823   53.812694 -0.750158  7.259341\n",
       "4     263.741321   62.047451 -1.196012  9.262387\n",
       "...          ...         ...       ...       ...\n",
       "5021  139.526900  876.928567  0.001691  0.001691\n",
       "5022  139.749557  876.918451  0.001691  0.001691\n",
       "5023  139.412345  878.207028 -0.296062  2.253724\n",
       "5024  138.107917  881.136414 -1.281437  3.882940\n",
       "5025  134.008147  882.956575 -4.211086  1.818290\n",
       "\n",
       "[5026 rows x 4 columns]"
      ]
     },
     "execution_count": 19,
     "metadata": {},
     "output_type": "execute_result"
    }
   ],
   "source": [
    "df1"
   ]
  },
  {
   "cell_type": "code",
   "execution_count": 20,
   "id": "856aca35",
   "metadata": {},
   "outputs": [
    {
     "name": "stdout",
     "output_type": "stream",
     "text": [
      "28.980277651947247\n",
      "1395.2828741038516\n"
     ]
    }
   ],
   "source": [
    "mini = min(df1['posX'].min(),df1['posY'].min())\n",
    "print(mini)\n",
    "maxi = max(df1['posX'].max(),df1['posY'].max())\n",
    "print(maxi)"
   ]
  },
  {
   "cell_type": "code",
   "execution_count": 21,
   "id": "8c3fd7d9",
   "metadata": {},
   "outputs": [],
   "source": [
    "df1['posX'] = (df1['posX'] - mini)/(maxi - mini)"
   ]
  },
  {
   "cell_type": "code",
   "execution_count": 22,
   "id": "a4299b43",
   "metadata": {},
   "outputs": [],
   "source": [
    "df1['posY'] = (df1['posY'] - mini)/(maxi - mini)"
   ]
  },
  {
   "cell_type": "code",
   "execution_count": 23,
   "id": "4782d08b",
   "metadata": {},
   "outputs": [
    {
     "name": "stdout",
     "output_type": "stream",
     "text": [
      "-17.411613086781816\n",
      "16.282034131930875\n"
     ]
    }
   ],
   "source": [
    "mini = min(df1['spdX'].min(),df1['spdY'].min())\n",
    "print(mini)\n",
    "maxi = max(df1['spdX'].max(),df1['spdY'].max())\n",
    "print(maxi)"
   ]
  },
  {
   "cell_type": "code",
   "execution_count": 24,
   "id": "4909cfab",
   "metadata": {},
   "outputs": [],
   "source": [
    "df1['spdX'] = ((df1['spdX'] - mini)/(maxi - mini))*2 -1 "
   ]
  },
  {
   "cell_type": "code",
   "execution_count": 25,
   "id": "9afe853e",
   "metadata": {},
   "outputs": [],
   "source": [
    "df1['spdY'] = ((df1['spdY'] - mini)/(maxi - mini))*2 -1 "
   ]
  },
  {
   "cell_type": "code",
   "execution_count": 26,
   "id": "e3b90c43",
   "metadata": {},
   "outputs": [
    {
     "data": {
      "text/html": [
       "<div>\n",
       "<style scoped>\n",
       "    .dataframe tbody tr th:only-of-type {\n",
       "        vertical-align: middle;\n",
       "    }\n",
       "\n",
       "    .dataframe tbody tr th {\n",
       "        vertical-align: top;\n",
       "    }\n",
       "\n",
       "    .dataframe thead th {\n",
       "        text-align: right;\n",
       "    }\n",
       "</style>\n",
       "<table border=\"1\" class=\"dataframe\">\n",
       "  <thead>\n",
       "    <tr style=\"text-align: right;\">\n",
       "      <th></th>\n",
       "      <th>posX</th>\n",
       "      <th>posY</th>\n",
       "      <th>spdX</th>\n",
       "      <th>spdY</th>\n",
       "    </tr>\n",
       "  </thead>\n",
       "  <tbody>\n",
       "    <tr>\n",
       "      <th>0</th>\n",
       "      <td>0.173574</td>\n",
       "      <td>0.009030</td>\n",
       "      <td>0.028724</td>\n",
       "      <td>0.079983</td>\n",
       "    </tr>\n",
       "    <tr>\n",
       "      <th>1</th>\n",
       "      <td>0.173520</td>\n",
       "      <td>0.010534</td>\n",
       "      <td>0.015289</td>\n",
       "      <td>0.210002</td>\n",
       "    </tr>\n",
       "    <tr>\n",
       "      <th>2</th>\n",
       "      <td>0.173114</td>\n",
       "      <td>0.013540</td>\n",
       "      <td>0.002532</td>\n",
       "      <td>0.333445</td>\n",
       "    </tr>\n",
       "    <tr>\n",
       "      <th>3</th>\n",
       "      <td>0.172655</td>\n",
       "      <td>0.018175</td>\n",
       "      <td>-0.011003</td>\n",
       "      <td>0.464428</td>\n",
       "    </tr>\n",
       "    <tr>\n",
       "      <th>4</th>\n",
       "      <td>0.171822</td>\n",
       "      <td>0.024202</td>\n",
       "      <td>-0.037468</td>\n",
       "      <td>0.583325</td>\n",
       "    </tr>\n",
       "  </tbody>\n",
       "</table>\n",
       "</div>"
      ],
      "text/plain": [
       "       posX      posY      spdX      spdY\n",
       "0  0.173574  0.009030  0.028724  0.079983\n",
       "1  0.173520  0.010534  0.015289  0.210002\n",
       "2  0.173114  0.013540  0.002532  0.333445\n",
       "3  0.172655  0.018175 -0.011003  0.464428\n",
       "4  0.171822  0.024202 -0.037468  0.583325"
      ]
     },
     "execution_count": 26,
     "metadata": {},
     "output_type": "execute_result"
    }
   ],
   "source": [
    "df1.head()"
   ]
  },
  {
   "cell_type": "code",
   "execution_count": null,
   "id": "94de12b8",
   "metadata": {},
   "outputs": [],
   "source": []
  },
  {
   "cell_type": "code",
   "execution_count": 27,
   "id": "ab487c13",
   "metadata": {},
   "outputs": [],
   "source": [
    "input_comb = []\n",
    "\n",
    "for i in range(len(df)):\n",
    "    if i%20==0 and len(df)-i>20:\n",
    "        curr = []\n",
    "        for j in range(20):\n",
    "            curr.append(np.array(df1.iloc[i+j]))\n",
    "        input_comb.append(curr)\n",
    "\n",
    "input_comb = np.array(input_comb)\n",
    "input_comb = torch.from_numpy(input_comb)"
   ]
  },
  {
   "cell_type": "code",
   "execution_count": 28,
   "id": "80f6364b",
   "metadata": {},
   "outputs": [
    {
     "data": {
      "text/plain": [
       "tensor([[[ 0.1736,  0.0090,  0.0287,  0.0800],\n",
       "         [ 0.1735,  0.0105,  0.0153,  0.2100],\n",
       "         [ 0.1731,  0.0135,  0.0025,  0.3334],\n",
       "         ...,\n",
       "         [ 0.1511,  0.1560, -0.0943,  0.8836],\n",
       "         [ 0.1495,  0.1665, -0.0942,  0.8830],\n",
       "         [ 0.1479,  0.1770, -0.0947,  0.8864]],\n",
       "\n",
       "        [[ 0.1465,  0.1875, -0.0946,  0.8860],\n",
       "         [ 0.1450,  0.1980, -0.0947,  0.8862],\n",
       "         [ 0.1433,  0.2085, -0.0947,  0.8865],\n",
       "         ...,\n",
       "         [ 0.1178,  0.3644, -0.0645,  0.6844],\n",
       "         [ 0.1168,  0.3707, -0.0247,  0.4202],\n",
       "         [ 0.1165,  0.3737,  0.0150,  0.1566]],\n",
       "\n",
       "        [[ 0.1165,  0.3739,  0.0336,  0.0336],\n",
       "         [ 0.1165,  0.3739,  0.0336,  0.0336],\n",
       "         [ 0.1165,  0.3739,  0.0336,  0.0336],\n",
       "         ...,\n",
       "         [ 0.1167,  0.3739,  0.0336,  0.0336],\n",
       "         [ 0.1169,  0.3739,  0.0336,  0.0336],\n",
       "         [ 0.1169,  0.3739,  0.0336,  0.0336]],\n",
       "\n",
       "        ...,\n",
       "\n",
       "        [[ 0.2964,  0.3866, -0.5635, -0.4651],\n",
       "         [ 0.2889,  0.3804, -0.5754, -0.4582],\n",
       "         [ 0.2815,  0.3743, -0.5662, -0.4631],\n",
       "         ...,\n",
       "         [ 0.1727,  0.3836, -0.7437, -0.0735],\n",
       "         [ 0.1631,  0.3823, -0.7405, -0.0731],\n",
       "         [ 0.1535,  0.3815, -0.7491,  0.0080]],\n",
       "\n",
       "        [[ 0.1439,  0.3812, -0.7439,  0.0081],\n",
       "         [ 0.1343,  0.3808, -0.7439,  0.0081],\n",
       "         [ 0.1247,  0.3810, -0.7426,  0.0792],\n",
       "         ...,\n",
       "         [ 0.0952,  0.5189, -0.0797,  0.8070],\n",
       "         [ 0.0938,  0.5284, -0.0792,  0.8039],\n",
       "         [ 0.0926,  0.5380, -0.0801,  0.8096]],\n",
       "\n",
       "        [[ 0.0911,  0.5475, -0.0773,  0.8081],\n",
       "         [ 0.0897,  0.5570, -0.0809,  0.8054],\n",
       "         [ 0.0883,  0.5666, -0.0763,  0.8054],\n",
       "         ...,\n",
       "         [ 0.0812,  0.6206,  0.0336,  0.0336],\n",
       "         [ 0.0812,  0.6206,  0.0336,  0.0336],\n",
       "         [ 0.0811,  0.6206,  0.0336,  0.0336]]], dtype=torch.float64)"
      ]
     },
     "execution_count": 28,
     "metadata": {},
     "output_type": "execute_result"
    }
   ],
   "source": [
    "input_comb"
   ]
  },
  {
   "cell_type": "code",
   "execution_count": 29,
   "id": "e9da326c",
   "metadata": {},
   "outputs": [],
   "source": [
    "class Dataset(torch.utils.data.Dataset):\n",
    "#   'Characterizes a dataset for PyTorch'\n",
    "    def __init__(self, list_IDs, labels):\n",
    "#         'Initialization'\n",
    "        self.labels = labels\n",
    "        self.list_IDs = list_IDs\n",
    "        \n",
    "    def __len__(self):\n",
    "#         'Denotes the total number of samples'\n",
    "        return len(self.list_IDs)\n",
    "\n",
    "    def __getitem__(self, index):\n",
    "#         'Generates one sample of data'\n",
    "        # Select sample\n",
    "        ID = self.list_IDs[index]\n",
    "\n",
    "        # Load data and get label\n",
    "        X = torch.load('data/' + ID + '.pt')\n",
    "        y = self.labels[ID]\n",
    "\n",
    "        return X, y"
   ]
  },
  {
   "cell_type": "code",
   "execution_count": 30,
   "id": "9267402e",
   "metadata": {},
   "outputs": [
    {
     "data": {
      "text/plain": [
       "torch.Size([251])"
      ]
     },
     "execution_count": 30,
     "metadata": {},
     "output_type": "execute_result"
    }
   ],
   "source": [
    "labels = torch.zeros(len(input_comb))\n",
    "labels.shape"
   ]
  },
  {
   "cell_type": "code",
   "execution_count": 31,
   "id": "baf7fac6",
   "metadata": {},
   "outputs": [],
   "source": [
    "X_train, X_rem, y_train, y_rem = train_test_split(input_comb,labels, train_size=0.85)\n",
    "X_valid, X_test, y_valid, y_test = train_test_split(X_rem,y_rem, test_size=0.5)"
   ]
  },
  {
   "cell_type": "code",
   "execution_count": 32,
   "id": "c0d9d75d",
   "metadata": {},
   "outputs": [],
   "source": [
    "training_data = Dataset(X_train,y_train)\n",
    "validation_data = Dataset(X_valid,y_valid)\n",
    "test_data = Dataset(X_test,y_test)"
   ]
  },
  {
   "cell_type": "code",
   "execution_count": 33,
   "id": "763ad183",
   "metadata": {},
   "outputs": [],
   "source": [
    "train_dataloader = DataLoader(training_data, batch_size=32, shuffle=True)\n",
    "val_dataloader = DataLoader(training_data, batch_size=32, shuffle=True)\n",
    "test_dataloader = DataLoader(test_data, batch_size=32, shuffle=True)"
   ]
  },
  {
   "cell_type": "code",
   "execution_count": null,
   "id": "5f0961c4",
   "metadata": {},
   "outputs": [],
   "source": []
  },
  {
   "cell_type": "code",
   "execution_count": 34,
   "id": "bd25e331",
   "metadata": {},
   "outputs": [],
   "source": [
    "class CNN_LSTM(nn.Module):\n",
    "    def __init__(self):\n",
    "        super().__init__()\n",
    "        self.conv = nn.Conv1d(in_channels=20, out_channels=20, kernel_size=3)\n",
    "        \n",
    "        self.lstm1 = nn.LSTM(input_size=2,hidden_size=2,num_layers=256)\n",
    "        self.lstm2 = nn.LSTM(input_size=2,hidden_size=2,num_layers=256)\n",
    "        self.lstm3 = nn.LSTM(input_size=2,hidden_size=2,num_layers=256)\n",
    "        self.lstm4 = nn.LSTM(input_size=2,hidden_size=2,num_layers=256)\n",
    "        \n",
    "        self.lin1 = nn.Linear(2,1)\n",
    "        self.lin2 = nn.Linear(4,2)\n",
    "        \n",
    "    def forward(self,x):\n",
    "        h0_1 = torch.randn(256,2)\n",
    "        c0_1 = torch.randn(256,2)\n",
    "        h0_2 = torch.randn(256,2)\n",
    "        c0_2 = torch.randn(256,2)\n",
    "        h0_3 = torch.randn(256,2)\n",
    "        c0_3 = torch.randn(256,2)\n",
    "        h0_4 = torch.randn(256,2)\n",
    "        c0_4 = torch.randn(256,2)\n",
    "        \n",
    "        \n",
    "        x = self.conv(x)\n",
    "        \n",
    "        o1, _ = self.lstm1(x,(h0_1,c0_1))\n",
    "        o2, _ = self.lstm2(x,(h0_2,c0_2))\n",
    "        o3, _ = self.lstm3(x,(h0_3,c0_3))\n",
    "        o4, _ = self.lstm4(x,(h0_4,c0_4))\n",
    "        \n",
    "        out1 = self.lin1(o1)\n",
    "        out2 = self.lin1(o2)\n",
    "        out3 = self.lin1(o3)\n",
    "        out4 = self.lin1(o4)\n",
    "        \n",
    "        out_comb = torch.stack((out1,out2,out3,out4),dim=1)\n",
    "        out_comb = out_comb.squeeze()\n",
    "        \n",
    "        out_final = self.lin2(out_comb)\n",
    "\n",
    "        \n",
    "        return out_final"
   ]
  },
  {
   "cell_type": "code",
   "execution_count": 35,
   "id": "d6256bba",
   "metadata": {
    "scrolled": false
   },
   "outputs": [
    {
     "name": "stdout",
     "output_type": "stream",
     "text": [
      "tensor([[ 0.1736,  0.0090,  0.0287,  0.0800],\n",
      "        [ 0.1735,  0.0105,  0.0153,  0.2100],\n",
      "        [ 0.1731,  0.0135,  0.0025,  0.3334],\n",
      "        [ 0.1727,  0.0182, -0.0110,  0.4644],\n",
      "        [ 0.1718,  0.0242, -0.0375,  0.5833],\n",
      "        [ 0.1707,  0.0318, -0.0705,  0.7057],\n",
      "        [ 0.1695,  0.0410, -0.0843,  0.8392],\n",
      "        [ 0.1678,  0.0513, -0.1148,  0.8814],\n",
      "        [ 0.1663,  0.0618, -0.1073,  0.8862],\n",
      "        [ 0.1645,  0.0723, -0.1017,  0.8790],\n",
      "        [ 0.1629,  0.0827, -0.1092,  0.8831],\n",
      "        [ 0.1610,  0.0932, -0.1198,  0.8831],\n",
      "        [ 0.1591,  0.1036, -0.1069,  0.8851],\n",
      "        [ 0.1573,  0.1141, -0.1070,  0.8862],\n",
      "        [ 0.1557,  0.1246, -0.0895,  0.8860],\n",
      "        [ 0.1542,  0.1351, -0.0915,  0.8809],\n",
      "        [ 0.1527,  0.1455, -0.0925,  0.8882],\n",
      "        [ 0.1511,  0.1560, -0.0943,  0.8836],\n",
      "        [ 0.1495,  0.1665, -0.0942,  0.8830],\n",
      "        [ 0.1479,  0.1770, -0.0947,  0.8864]], dtype=torch.float64)\n"
     ]
    }
   ],
   "source": [
    "input = input_comb[0]\n",
    "# input = torch.randn(20,4)\n",
    "print(input)"
   ]
  },
  {
   "cell_type": "code",
   "execution_count": 36,
   "id": "486b5333",
   "metadata": {},
   "outputs": [],
   "source": [
    "model = CNN_LSTM()"
   ]
  },
  {
   "cell_type": "code",
   "execution_count": 37,
   "id": "b936fbff",
   "metadata": {},
   "outputs": [],
   "source": [
    "output = model(input.float())"
   ]
  },
  {
   "cell_type": "code",
   "execution_count": 38,
   "id": "32e187ac",
   "metadata": {
    "scrolled": false
   },
   "outputs": [
    {
     "data": {
      "text/plain": [
       "tensor([[ 0.2136, -0.1846],\n",
       "        [ 0.2261, -0.1780],\n",
       "        [ 0.2063, -0.1810],\n",
       "        [ 0.1945, -0.1888],\n",
       "        [ 0.1867, -0.1973],\n",
       "        [ 0.1811, -0.2050],\n",
       "        [ 0.1770, -0.2115],\n",
       "        [ 0.1739, -0.2166],\n",
       "        [ 0.1716, -0.2205],\n",
       "        [ 0.1699, -0.2234],\n",
       "        [ 0.1687, -0.2255],\n",
       "        [ 0.1678, -0.2270],\n",
       "        [ 0.1672, -0.2280],\n",
       "        [ 0.1668, -0.2287],\n",
       "        [ 0.1665, -0.2292],\n",
       "        [ 0.1663, -0.2295],\n",
       "        [ 0.1662, -0.2297],\n",
       "        [ 0.1661, -0.2298],\n",
       "        [ 0.1661, -0.2299],\n",
       "        [ 0.1661, -0.2299]], grad_fn=<AddmmBackward0>)"
      ]
     },
     "execution_count": 38,
     "metadata": {},
     "output_type": "execute_result"
    }
   ],
   "source": [
    "output"
   ]
  },
  {
   "cell_type": "code",
   "execution_count": 46,
   "id": "365fc305",
   "metadata": {},
   "outputs": [],
   "source": [
    "criterion = nn.L1Loss()\n",
    "# optimizer = optim.SGD(model.parameters(), lr=0.001, momentum=0.9)\n",
    "optimizer = optim.Adam(model.parameters(),lr=0.0003)"
   ]
  },
  {
   "cell_type": "code",
   "execution_count": 40,
   "id": "56030f72",
   "metadata": {},
   "outputs": [
    {
     "data": {
      "text/plain": [
       "tensor([0., 0., 0., 0., 0., 0., 0., 0., 0., 0., 0., 0., 0., 0., 0., 0., 0., 0., 0., 0., 0., 0., 0., 0.,\n",
       "        0., 0., 0., 0., 0., 0., 0., 0., 0., 0., 0., 0., 0., 0., 0., 0., 0., 0., 0., 0., 0., 0., 0., 0.,\n",
       "        0., 0., 0., 0., 0., 0., 0., 0., 0., 0., 0., 0., 0., 0., 0., 0., 0., 0., 0., 0., 0., 0., 0., 0.,\n",
       "        0., 0., 0., 0., 0., 0., 0., 0., 0., 0., 0., 0., 0., 0., 0., 0., 0., 0., 0., 0., 0., 0., 0., 0.,\n",
       "        0., 0., 0., 0., 0., 0., 0., 0., 0., 0., 0., 0., 0., 0., 0., 0., 0., 0., 0., 0., 0., 0., 0., 0.,\n",
       "        0., 0., 0., 0., 0., 0., 0., 0., 0., 0., 0., 0., 0., 0., 0., 0., 0., 0., 0., 0., 0., 0., 0., 0.,\n",
       "        0., 0., 0., 0., 0., 0., 0., 0., 0., 0., 0., 0., 0., 0., 0., 0., 0., 0., 0., 0., 0., 0., 0., 0.,\n",
       "        0., 0., 0., 0., 0., 0., 0., 0., 0., 0., 0., 0., 0., 0., 0., 0., 0., 0., 0., 0., 0., 0., 0., 0.,\n",
       "        0., 0., 0., 0., 0., 0., 0., 0., 0., 0., 0., 0., 0., 0., 0., 0., 0., 0., 0., 0., 0.])"
      ]
     },
     "execution_count": 40,
     "metadata": {},
     "output_type": "execute_result"
    }
   ],
   "source": [
    "y_train"
   ]
  },
  {
   "cell_type": "code",
   "execution_count": 41,
   "id": "9721d447",
   "metadata": {},
   "outputs": [],
   "source": [
    "def thresholding_algorithm(X, X_dash, Y, iterations=100, starting_threshold=0.005, precision=0.1):\n",
    "    device = X.device # get the device of the input tensors\n",
    "    N = iterations\n",
    "    Accuracy = torch.zeros(N, device=device)\n",
    "    threshold = torch.linspace(starting_threshold, starting_threshold + (N-1)*precision, N, device=device)\n",
    "    st = starting_threshold\n",
    "    pre = precision\n",
    "    m = int(torch.ceil(torch.log10(torch.Tensor([N]).to(device))))\n",
    "    for l in range(m):\n",
    "        for i in range(N):\n",
    "            Accuracy[i] = 0\n",
    "            threshold[i] = st + (i/pre)\n",
    "            for j in range(len(X)):\n",
    "                mae = torch.mean(torch.abs(X[j]-X_dash[j])).item()\n",
    "                if (mae < threshold[i] and Y[j] == 0) or (mae > threshold[i] and Y[j] != 0):\n",
    "                    Accuracy[i] += 1/len(X)\n",
    "        threshold_max = st + (torch.argmax(Accuracy))/pre\n",
    "        en = st + ((torch.argmax(Accuracy) + 1)/pre)\n",
    "        st = st + ((torch.argmax(Accuracy) - 1)/pre)\n",
    "        pre *= 10\n",
    "        N = int((en - st) * pre)\n",
    "        threshold = torch.linspace(st, en, N, device=device)\n",
    "    return threshold_max,Accuracy.max()"
   ]
  },
  {
   "cell_type": "code",
   "execution_count": 42,
   "id": "eb93b781",
   "metadata": {},
   "outputs": [
    {
     "data": {
      "text/plain": [
       "(tensor(1.0050), tensor(1.0000))"
      ]
     },
     "execution_count": 42,
     "metadata": {},
     "output_type": "execute_result"
    }
   ],
   "source": [
    "thresholding_algorithm(input_comb[0][:,:2],output,torch.zeros(20))"
   ]
  },
  {
   "cell_type": "code",
   "execution_count": 43,
   "id": "f83e0337",
   "metadata": {},
   "outputs": [
    {
     "data": {
      "text/plain": [
       "0.07680068635354939"
      ]
     },
     "execution_count": 43,
     "metadata": {},
     "output_type": "execute_result"
    }
   ],
   "source": [
    "torch.mean(input_comb[0][0,:2] - output[0]).item()"
   ]
  },
  {
   "cell_type": "code",
   "execution_count": 44,
   "id": "fc7c9c90",
   "metadata": {},
   "outputs": [],
   "source": [
    "X_train.shape\n",
    "output_train = torch.zeros(213,20,2)"
   ]
  },
  {
   "cell_type": "code",
   "execution_count": null,
   "id": "3c639a21",
   "metadata": {},
   "outputs": [],
   "source": []
  },
  {
   "cell_type": "code",
   "execution_count": null,
   "id": "44f6e9ce",
   "metadata": {},
   "outputs": [],
   "source": []
  }
 ],
 "metadata": {
  "kernelspec": {
   "display_name": "venv",
   "language": "python",
   "name": "venv"
  },
  "language_info": {
   "codemirror_mode": {
    "name": "ipython",
    "version": 3
   },
   "file_extension": ".py",
   "mimetype": "text/x-python",
   "name": "python",
   "nbconvert_exporter": "python",
   "pygments_lexer": "ipython3",
   "version": "3.10.10"
  }
 },
 "nbformat": 4,
 "nbformat_minor": 5
}
